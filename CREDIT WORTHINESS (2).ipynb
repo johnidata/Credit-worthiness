{
 "cells": [
  {
   "cell_type": "code",
   "execution_count": 1,
   "id": "d7747d1a",
   "metadata": {},
   "outputs": [],
   "source": [
    "import os\n",
    "import numpy as np\n",
    "import pandas as pd \n",
    "import matplotlib.pyplot as plt\n",
    "import seaborn as sns\n",
    "import math\n",
    "import sklearn\n",
    "import warnings\n",
    "warnings.filterwarnings('ignore')\n",
    "import re\n",
    "import matplotlib.style as style\n",
    "%matplotlib inline"
   ]
  },
  {
   "cell_type": "code",
   "execution_count": 2,
   "id": "2533c9ce",
   "metadata": {},
   "outputs": [
    {
     "data": {
      "text/plain": [
       "'C:\\\\Users\\\\JOHN ACQUAH\\\\Documents\\\\BLOSSOM ACADEMY\\\\projects\\\\Loan Prediction Project data'"
      ]
     },
     "execution_count": 2,
     "metadata": {},
     "output_type": "execute_result"
    }
   ],
   "source": [
    "os.getcwd()"
   ]
  },
  {
   "cell_type": "code",
   "execution_count": 3,
   "id": "a5a9fe22",
   "metadata": {},
   "outputs": [
    {
     "name": "stdout",
     "output_type": "stream",
     "text": [
      " Volume in drive C is Windows\n",
      " Volume Serial Number is F0C8-BB96\n",
      "\n",
      " Directory of C:\\Users\\JOHN ACQUAH\\Documents\\BLOSSOM ACADEMY\\projects\\Loan Prediction Project data\n",
      "\n",
      "11/23/2021  11:16 AM    <DIR>          .\n",
      "11/23/2021  11:16 AM    <DIR>          ..\n",
      "11/20/2021  08:56 AM    <DIR>          .ipynb_checkpoints\n",
      "11/13/2021  01:37 PM           664,447 Final Loan prediction project(JOHN ACQUAH) GRID SEARCH-Copy2.ipynb\n",
      "11/19/2021  01:08 PM           689,314 Final Loan prediction project(JOHN ACQUAH).ipynb\n",
      "11/22/2021  09:39 PM           701,015 Final Loan prediction project(JOHN ACQUAH)-Copy1.ipynb\n",
      "11/04/2021  12:59 PM           561,001 Loan prediction project(PCA)-Copy1.ipynb\n",
      "09/09/2021  09:55 AM        21,041,664 Loans data.csv\n",
      "11/23/2021  11:16 AM           675,367 new.ipynb\n",
      "11/20/2021  09:04 AM           563,743 new-Copy1.ipynb\n",
      "09/22/2021  08:40 PM            57,787 Untitled1.ipynb\n",
      "11/04/2021  03:01 PM           140,315 Untitled2.ipynb\n",
      "               9 File(s)     25,094,653 bytes\n",
      "               3 Dir(s)  162,114,359,296 bytes free\n"
     ]
    }
   ],
   "source": [
    "ls"
   ]
  },
  {
   "cell_type": "code",
   "execution_count": 4,
   "id": "c5f9ce42",
   "metadata": {},
   "outputs": [],
   "source": [
    "lpd = pd.read_csv('Loans data.csv')"
   ]
  },
  {
   "cell_type": "code",
   "execution_count": 5,
   "id": "32e55599",
   "metadata": {},
   "outputs": [
    {
     "data": {
      "text/html": [
       "<div>\n",
       "<style scoped>\n",
       "    .dataframe tbody tr th:only-of-type {\n",
       "        vertical-align: middle;\n",
       "    }\n",
       "\n",
       "    .dataframe tbody tr th {\n",
       "        vertical-align: top;\n",
       "    }\n",
       "\n",
       "    .dataframe thead th {\n",
       "        text-align: right;\n",
       "    }\n",
       "</style>\n",
       "<table border=\"1\" class=\"dataframe\">\n",
       "  <thead>\n",
       "    <tr style=\"text-align: right;\">\n",
       "      <th></th>\n",
       "      <th>Loan ID</th>\n",
       "      <th>Customer ID</th>\n",
       "      <th>Loan Status</th>\n",
       "      <th>Current Loan Amount</th>\n",
       "      <th>Term</th>\n",
       "      <th>Credit Score</th>\n",
       "      <th>Years in current job</th>\n",
       "      <th>Home Ownership</th>\n",
       "      <th>Annual Income</th>\n",
       "      <th>Purpose</th>\n",
       "      <th>Monthly Debt</th>\n",
       "      <th>Years of Credit History</th>\n",
       "      <th>Months since last delinquent</th>\n",
       "      <th>Number of Open Accounts</th>\n",
       "      <th>Number of Credit Problems</th>\n",
       "      <th>Current Credit Balance</th>\n",
       "      <th>Maximum Open Credit</th>\n",
       "      <th>Bankruptcies</th>\n",
       "      <th>Tax Liens</th>\n",
       "    </tr>\n",
       "  </thead>\n",
       "  <tbody>\n",
       "    <tr>\n",
       "      <th>0</th>\n",
       "      <td>6cf51492-02a2-423e-b93d-676f05b9ad53</td>\n",
       "      <td>7c202b37-2add-44e8-9aea-d5b119aea935</td>\n",
       "      <td>Loan Refused</td>\n",
       "      <td>12232</td>\n",
       "      <td>Short Term</td>\n",
       "      <td>7280.0</td>\n",
       "      <td>&lt; 1 year</td>\n",
       "      <td>Rent</td>\n",
       "      <td>46643.0</td>\n",
       "      <td>Debt Consolidation</td>\n",
       "      <td>777.39</td>\n",
       "      <td>18.0</td>\n",
       "      <td>10.0</td>\n",
       "      <td>12</td>\n",
       "      <td>0</td>\n",
       "      <td>6762</td>\n",
       "      <td>7946</td>\n",
       "      <td>0.0</td>\n",
       "      <td>0.0</td>\n",
       "    </tr>\n",
       "    <tr>\n",
       "      <th>1</th>\n",
       "      <td>552e7ade-4292-4354-9ff9-c48031697d72</td>\n",
       "      <td>e7217b0a-07ac-47dd-b379-577b5a35b7c6</td>\n",
       "      <td>Loan Refused</td>\n",
       "      <td>25014</td>\n",
       "      <td>Long Term</td>\n",
       "      <td>7330.0</td>\n",
       "      <td>10+ years</td>\n",
       "      <td>Home Mortgage</td>\n",
       "      <td>81099.0</td>\n",
       "      <td>Debt Consolidation</td>\n",
       "      <td>892.09</td>\n",
       "      <td>26.7</td>\n",
       "      <td>NaN</td>\n",
       "      <td>14</td>\n",
       "      <td>0</td>\n",
       "      <td>35706</td>\n",
       "      <td>77961</td>\n",
       "      <td>0.0</td>\n",
       "      <td>0.0</td>\n",
       "    </tr>\n",
       "    <tr>\n",
       "      <th>2</th>\n",
       "      <td>9b5e32b3-8d76-4801-afc8-d729d5a2e6b9</td>\n",
       "      <td>0a62fc41-16c8-40b5-92ff-9e4b763ce714</td>\n",
       "      <td>Loan Refused</td>\n",
       "      <td>16117</td>\n",
       "      <td>Short Term</td>\n",
       "      <td>7240.0</td>\n",
       "      <td>9 years</td>\n",
       "      <td>Home Mortgage</td>\n",
       "      <td>60438.0</td>\n",
       "      <td>Home Improvements</td>\n",
       "      <td>1244.02</td>\n",
       "      <td>16.7</td>\n",
       "      <td>32.0</td>\n",
       "      <td>11</td>\n",
       "      <td>1</td>\n",
       "      <td>11275</td>\n",
       "      <td>14815</td>\n",
       "      <td>1.0</td>\n",
       "      <td>0.0</td>\n",
       "    </tr>\n",
       "    <tr>\n",
       "      <th>3</th>\n",
       "      <td>5419b7c7-ac11-4be2-a8a7-b131fb6d6dbe</td>\n",
       "      <td>30f36c59-5182-4482-8bbb-5b736849ae43</td>\n",
       "      <td>Loan Refused</td>\n",
       "      <td>11716</td>\n",
       "      <td>Short Term</td>\n",
       "      <td>7400.0</td>\n",
       "      <td>3 years</td>\n",
       "      <td>Rent</td>\n",
       "      <td>34171.0</td>\n",
       "      <td>Debt Consolidation</td>\n",
       "      <td>990.94</td>\n",
       "      <td>10.0</td>\n",
       "      <td>NaN</td>\n",
       "      <td>21</td>\n",
       "      <td>0</td>\n",
       "      <td>7009</td>\n",
       "      <td>43533</td>\n",
       "      <td>0.0</td>\n",
       "      <td>0.0</td>\n",
       "    </tr>\n",
       "    <tr>\n",
       "      <th>4</th>\n",
       "      <td>1450910f-9495-4fc9-afaf-9bdf4b9821df</td>\n",
       "      <td>70c26012-bba5-42c0-8dcb-75295ada31bb</td>\n",
       "      <td>Loan Refused</td>\n",
       "      <td>9789</td>\n",
       "      <td>Long Term</td>\n",
       "      <td>6860.0</td>\n",
       "      <td>10+ years</td>\n",
       "      <td>Home Mortgage</td>\n",
       "      <td>47003.0</td>\n",
       "      <td>Home Improvements</td>\n",
       "      <td>503.71</td>\n",
       "      <td>16.7</td>\n",
       "      <td>25.0</td>\n",
       "      <td>13</td>\n",
       "      <td>1</td>\n",
       "      <td>16913</td>\n",
       "      <td>19553</td>\n",
       "      <td>1.0</td>\n",
       "      <td>0.0</td>\n",
       "    </tr>\n",
       "  </tbody>\n",
       "</table>\n",
       "</div>"
      ],
      "text/plain": [
       "                                Loan ID                           Customer ID  \\\n",
       "0  6cf51492-02a2-423e-b93d-676f05b9ad53  7c202b37-2add-44e8-9aea-d5b119aea935   \n",
       "1  552e7ade-4292-4354-9ff9-c48031697d72  e7217b0a-07ac-47dd-b379-577b5a35b7c6   \n",
       "2  9b5e32b3-8d76-4801-afc8-d729d5a2e6b9  0a62fc41-16c8-40b5-92ff-9e4b763ce714   \n",
       "3  5419b7c7-ac11-4be2-a8a7-b131fb6d6dbe  30f36c59-5182-4482-8bbb-5b736849ae43   \n",
       "4  1450910f-9495-4fc9-afaf-9bdf4b9821df  70c26012-bba5-42c0-8dcb-75295ada31bb   \n",
       "\n",
       "    Loan Status  Current Loan Amount        Term  Credit Score  \\\n",
       "0  Loan Refused                12232  Short Term        7280.0   \n",
       "1  Loan Refused                25014   Long Term        7330.0   \n",
       "2  Loan Refused                16117  Short Term        7240.0   \n",
       "3  Loan Refused                11716  Short Term        7400.0   \n",
       "4  Loan Refused                 9789   Long Term        6860.0   \n",
       "\n",
       "  Years in current job Home Ownership  Annual Income             Purpose  \\\n",
       "0             < 1 year           Rent        46643.0  Debt Consolidation   \n",
       "1            10+ years  Home Mortgage        81099.0  Debt Consolidation   \n",
       "2              9 years  Home Mortgage        60438.0   Home Improvements   \n",
       "3              3 years           Rent        34171.0  Debt Consolidation   \n",
       "4            10+ years  Home Mortgage        47003.0   Home Improvements   \n",
       "\n",
       "   Monthly Debt  Years of Credit History  Months since last delinquent  \\\n",
       "0        777.39                     18.0                          10.0   \n",
       "1        892.09                     26.7                           NaN   \n",
       "2       1244.02                     16.7                          32.0   \n",
       "3        990.94                     10.0                           NaN   \n",
       "4        503.71                     16.7                          25.0   \n",
       "\n",
       "   Number of Open Accounts  Number of Credit Problems  Current Credit Balance  \\\n",
       "0                       12                          0                    6762   \n",
       "1                       14                          0                   35706   \n",
       "2                       11                          1                   11275   \n",
       "3                       21                          0                    7009   \n",
       "4                       13                          1                   16913   \n",
       "\n",
       "  Maximum Open Credit  Bankruptcies  Tax Liens  \n",
       "0                7946           0.0        0.0  \n",
       "1               77961           0.0        0.0  \n",
       "2               14815           1.0        0.0  \n",
       "3               43533           0.0        0.0  \n",
       "4               19553           1.0        0.0  "
      ]
     },
     "execution_count": 5,
     "metadata": {},
     "output_type": "execute_result"
    }
   ],
   "source": [
    "lpd.head()"
   ]
  },
  {
   "cell_type": "code",
   "execution_count": 6,
   "id": "1ac4931d",
   "metadata": {
    "scrolled": true
   },
   "outputs": [
    {
     "name": "stdout",
     "output_type": "stream",
     "text": [
      "<class 'pandas.core.frame.DataFrame'>\n",
      "RangeIndex: 111107 entries, 0 to 111106\n",
      "Data columns (total 19 columns):\n",
      " #   Column                        Non-Null Count   Dtype  \n",
      "---  ------                        --------------   -----  \n",
      " 0   Loan ID                       111107 non-null  object \n",
      " 1   Customer ID                   111107 non-null  object \n",
      " 2   Loan Status                   111107 non-null  object \n",
      " 3   Current Loan Amount           111107 non-null  int64  \n",
      " 4   Term                          111107 non-null  object \n",
      " 5   Credit Score                  89769 non-null   float64\n",
      " 6   Years in current job          106414 non-null  object \n",
      " 7   Home Ownership                111107 non-null  object \n",
      " 8   Annual Income                 89769 non-null   float64\n",
      " 9   Purpose                       111107 non-null  object \n",
      " 10  Monthly Debt                  111107 non-null  float64\n",
      " 11  Years of Credit History       111107 non-null  float64\n",
      " 12  Months since last delinquent  52104 non-null   float64\n",
      " 13  Number of Open Accounts       111107 non-null  int64  \n",
      " 14  Number of Credit Problems     111107 non-null  int64  \n",
      " 15  Current Credit Balance        111107 non-null  int64  \n",
      " 16  Maximum Open Credit           111107 non-null  object \n",
      " 17  Bankruptcies                  110879 non-null  float64\n",
      " 18  Tax Liens                     111096 non-null  float64\n",
      "dtypes: float64(7), int64(4), object(8)\n",
      "memory usage: 16.1+ MB\n"
     ]
    }
   ],
   "source": [
    "lpd.info()"
   ]
  },
  {
   "cell_type": "markdown",
   "id": "70526ae3",
   "metadata": {},
   "source": [
    "### Converting object column into integer column\n",
    "It can be seen that 'Maximum Open Credit' and 'Years in current job'is an object per the information above. But in the data it is represented by numbers.\n",
    "Here it has to be converted from an object to an integer column using the to_numeric approach.\n",
    "\n"
   ]
  },
  {
   "cell_type": "code",
   "execution_count": 7,
   "id": "e063c811",
   "metadata": {},
   "outputs": [
    {
     "data": {
      "text/plain": [
       "'#VALUE!'"
      ]
     },
     "execution_count": 7,
     "metadata": {},
     "output_type": "execute_result"
    }
   ],
   "source": [
    "lpd['Maximum Open Credit'][4930]    # the string character 'VAlUE' in the column was the reason it was seen as an object"
   ]
  },
  {
   "cell_type": "markdown",
   "id": "20e6c915",
   "metadata": {},
   "source": [
    "Since the location of the above output was unknown, an error message led to finding the index."
   ]
  },
  {
   "cell_type": "code",
   "execution_count": 8,
   "id": "1bfff31f",
   "metadata": {},
   "outputs": [],
   "source": [
    "lpd['Maximum Open Credit'].replace('#VALUE!',np.nan, inplace = True)\n",
    "# replacing it with nan "
   ]
  },
  {
   "cell_type": "code",
   "execution_count": 9,
   "id": "389ec643",
   "metadata": {},
   "outputs": [
    {
     "data": {
      "text/plain": [
       "nan"
      ]
     },
     "execution_count": 9,
     "metadata": {},
     "output_type": "execute_result"
    }
   ],
   "source": [
    "lpd['Maximum Open Credit'][4930]\n",
    "# calling its index to comfirm change"
   ]
  },
  {
   "cell_type": "code",
   "execution_count": 10,
   "id": "dd60e0d2",
   "metadata": {},
   "outputs": [],
   "source": [
    "lpd['Maximum Open Credit']=pd.to_numeric(lpd['Maximum Open Credit'])\n",
    "# changing the data type from string to a numeric data type"
   ]
  },
  {
   "cell_type": "code",
   "execution_count": null,
   "id": "8e957b57",
   "metadata": {},
   "outputs": [],
   "source": []
  },
  {
   "cell_type": "code",
   "execution_count": 11,
   "id": "a57c1352",
   "metadata": {},
   "outputs": [
    {
     "data": {
      "text/plain": [
       "0     < 1 year\n",
       "1    10+ years\n",
       "2      9 years\n",
       "3      3 years\n",
       "4    10+ years\n",
       "Name: Years in current job, dtype: object"
      ]
     },
     "execution_count": 11,
     "metadata": {},
     "output_type": "execute_result"
    }
   ],
   "source": [
    "lpd['Years in current job'].head()"
   ]
  },
  {
   "cell_type": "markdown",
   "id": "4bab35b3",
   "metadata": {},
   "source": [
    "'<','+','years' will be removed in order to convert the column to that of a integer dtype."
   ]
  },
  {
   "cell_type": "code",
   "execution_count": 12,
   "id": "f3e5b12d",
   "metadata": {},
   "outputs": [],
   "source": [
    "lpd['Years in current job']=lpd['Years in current job'].str.replace(\n",
    "    '<','',).str.replace('+','').str.replace('year','').str.replace('s','').astype('float')\n"
   ]
  },
  {
   "cell_type": "code",
   "execution_count": 13,
   "id": "e4acf642",
   "metadata": {},
   "outputs": [
    {
     "data": {
      "text/plain": [
       "0     1.0\n",
       "1    10.0\n",
       "2     9.0\n",
       "3     3.0\n",
       "4    10.0\n",
       "Name: Years in current job, dtype: float64"
      ]
     },
     "execution_count": 13,
     "metadata": {},
     "output_type": "execute_result"
    }
   ],
   "source": [
    "lpd['Years in current job'].head()"
   ]
  },
  {
   "cell_type": "code",
   "execution_count": 14,
   "id": "3abbb716",
   "metadata": {},
   "outputs": [
    {
     "name": "stdout",
     "output_type": "stream",
     "text": [
      "<class 'pandas.core.frame.DataFrame'>\n",
      "RangeIndex: 111107 entries, 0 to 111106\n",
      "Data columns (total 19 columns):\n",
      " #   Column                        Non-Null Count   Dtype  \n",
      "---  ------                        --------------   -----  \n",
      " 0   Loan ID                       111107 non-null  object \n",
      " 1   Customer ID                   111107 non-null  object \n",
      " 2   Loan Status                   111107 non-null  object \n",
      " 3   Current Loan Amount           111107 non-null  int64  \n",
      " 4   Term                          111107 non-null  object \n",
      " 5   Credit Score                  89769 non-null   float64\n",
      " 6   Years in current job          106414 non-null  float64\n",
      " 7   Home Ownership                111107 non-null  object \n",
      " 8   Annual Income                 89769 non-null   float64\n",
      " 9   Purpose                       111107 non-null  object \n",
      " 10  Monthly Debt                  111107 non-null  float64\n",
      " 11  Years of Credit History       111107 non-null  float64\n",
      " 12  Months since last delinquent  52104 non-null   float64\n",
      " 13  Number of Open Accounts       111107 non-null  int64  \n",
      " 14  Number of Credit Problems     111107 non-null  int64  \n",
      " 15  Current Credit Balance        111107 non-null  int64  \n",
      " 16  Maximum Open Credit           111105 non-null  float64\n",
      " 17  Bankruptcies                  110879 non-null  float64\n",
      " 18  Tax Liens                     111096 non-null  float64\n",
      "dtypes: float64(9), int64(4), object(6)\n",
      "memory usage: 16.1+ MB\n"
     ]
    }
   ],
   "source": [
    "lpd.info()"
   ]
  },
  {
   "cell_type": "markdown",
   "id": "60968441",
   "metadata": {},
   "source": [
    "Ther dtype of the column has changed from object to float"
   ]
  },
  {
   "cell_type": "markdown",
   "id": "eee5cad5",
   "metadata": {},
   "source": [
    "Displaying a desciption of numerical variables in the data."
   ]
  },
  {
   "cell_type": "code",
   "execution_count": 15,
   "id": "a2d92439",
   "metadata": {
    "scrolled": false
   },
   "outputs": [
    {
     "data": {
      "text/html": [
       "<div>\n",
       "<style scoped>\n",
       "    .dataframe tbody tr th:only-of-type {\n",
       "        vertical-align: middle;\n",
       "    }\n",
       "\n",
       "    .dataframe tbody tr th {\n",
       "        vertical-align: top;\n",
       "    }\n",
       "\n",
       "    .dataframe thead th {\n",
       "        text-align: right;\n",
       "    }\n",
       "</style>\n",
       "<table border=\"1\" class=\"dataframe\">\n",
       "  <thead>\n",
       "    <tr style=\"text-align: right;\">\n",
       "      <th></th>\n",
       "      <th>Current Loan Amount</th>\n",
       "      <th>Credit Score</th>\n",
       "      <th>Years in current job</th>\n",
       "      <th>Annual Income</th>\n",
       "      <th>Monthly Debt</th>\n",
       "      <th>Years of Credit History</th>\n",
       "      <th>Months since last delinquent</th>\n",
       "      <th>Number of Open Accounts</th>\n",
       "      <th>Number of Credit Problems</th>\n",
       "      <th>Current Credit Balance</th>\n",
       "      <th>Maximum Open Credit</th>\n",
       "      <th>Bankruptcies</th>\n",
       "      <th>Tax Liens</th>\n",
       "    </tr>\n",
       "  </thead>\n",
       "  <tbody>\n",
       "    <tr>\n",
       "      <th>count</th>\n",
       "      <td>1.111070e+05</td>\n",
       "      <td>89769.000000</td>\n",
       "      <td>106414.000000</td>\n",
       "      <td>8.976900e+04</td>\n",
       "      <td>111107.000000</td>\n",
       "      <td>111107.000000</td>\n",
       "      <td>52104.000000</td>\n",
       "      <td>111107.000000</td>\n",
       "      <td>111107.000000</td>\n",
       "      <td>1.111070e+05</td>\n",
       "      <td>1.111050e+05</td>\n",
       "      <td>110879.00000</td>\n",
       "      <td>111096.000000</td>\n",
       "    </tr>\n",
       "    <tr>\n",
       "      <th>mean</th>\n",
       "      <td>1.147718e+07</td>\n",
       "      <td>1075.795029</td>\n",
       "      <td>5.974308</td>\n",
       "      <td>7.248600e+04</td>\n",
       "      <td>971.970120</td>\n",
       "      <td>18.201003</td>\n",
       "      <td>34.902272</td>\n",
       "      <td>11.125105</td>\n",
       "      <td>0.168027</td>\n",
       "      <td>1.548314e+04</td>\n",
       "      <td>3.438644e+04</td>\n",
       "      <td>0.11766</td>\n",
       "      <td>0.029353</td>\n",
       "    </tr>\n",
       "    <tr>\n",
       "      <th>std</th>\n",
       "      <td>3.185508e+07</td>\n",
       "      <td>1474.133505</td>\n",
       "      <td>3.500436</td>\n",
       "      <td>5.593094e+04</td>\n",
       "      <td>641.640829</td>\n",
       "      <td>7.014495</td>\n",
       "      <td>21.970696</td>\n",
       "      <td>5.010267</td>\n",
       "      <td>0.484212</td>\n",
       "      <td>1.982115e+04</td>\n",
       "      <td>3.643027e+05</td>\n",
       "      <td>0.35142</td>\n",
       "      <td>0.260575</td>\n",
       "    </tr>\n",
       "    <tr>\n",
       "      <th>min</th>\n",
       "      <td>4.910000e+02</td>\n",
       "      <td>585.000000</td>\n",
       "      <td>1.000000</td>\n",
       "      <td>4.033000e+03</td>\n",
       "      <td>0.000000</td>\n",
       "      <td>3.600000</td>\n",
       "      <td>0.000000</td>\n",
       "      <td>0.000000</td>\n",
       "      <td>0.000000</td>\n",
       "      <td>0.000000e+00</td>\n",
       "      <td>0.000000e+00</td>\n",
       "      <td>0.00000</td>\n",
       "      <td>0.000000</td>\n",
       "    </tr>\n",
       "    <tr>\n",
       "      <th>25%</th>\n",
       "      <td>8.162000e+03</td>\n",
       "      <td>705.000000</td>\n",
       "      <td>3.000000</td>\n",
       "      <td>4.468800e+04</td>\n",
       "      <td>537.755000</td>\n",
       "      <td>13.500000</td>\n",
       "      <td>16.000000</td>\n",
       "      <td>8.000000</td>\n",
       "      <td>0.000000</td>\n",
       "      <td>5.905000e+03</td>\n",
       "      <td>1.241700e+04</td>\n",
       "      <td>0.00000</td>\n",
       "      <td>0.000000</td>\n",
       "    </tr>\n",
       "    <tr>\n",
       "      <th>50%</th>\n",
       "      <td>1.418300e+04</td>\n",
       "      <td>724.000000</td>\n",
       "      <td>6.000000</td>\n",
       "      <td>6.175200e+04</td>\n",
       "      <td>852.720000</td>\n",
       "      <td>16.900000</td>\n",
       "      <td>32.000000</td>\n",
       "      <td>10.000000</td>\n",
       "      <td>0.000000</td>\n",
       "      <td>1.102700e+04</td>\n",
       "      <td>2.124300e+04</td>\n",
       "      <td>0.00000</td>\n",
       "      <td>0.000000</td>\n",
       "    </tr>\n",
       "    <tr>\n",
       "      <th>75%</th>\n",
       "      <td>2.382200e+04</td>\n",
       "      <td>741.000000</td>\n",
       "      <td>10.000000</td>\n",
       "      <td>8.688700e+04</td>\n",
       "      <td>1262.630000</td>\n",
       "      <td>21.700000</td>\n",
       "      <td>51.000000</td>\n",
       "      <td>14.000000</td>\n",
       "      <td>0.000000</td>\n",
       "      <td>1.933800e+04</td>\n",
       "      <td>3.558400e+04</td>\n",
       "      <td>0.00000</td>\n",
       "      <td>0.000000</td>\n",
       "    </tr>\n",
       "    <tr>\n",
       "      <th>max</th>\n",
       "      <td>1.000000e+08</td>\n",
       "      <td>7510.000000</td>\n",
       "      <td>10.000000</td>\n",
       "      <td>8.713547e+06</td>\n",
       "      <td>22939.120000</td>\n",
       "      <td>70.500000</td>\n",
       "      <td>176.000000</td>\n",
       "      <td>76.000000</td>\n",
       "      <td>15.000000</td>\n",
       "      <td>1.730472e+06</td>\n",
       "      <td>6.998809e+07</td>\n",
       "      <td>7.00000</td>\n",
       "      <td>15.000000</td>\n",
       "    </tr>\n",
       "  </tbody>\n",
       "</table>\n",
       "</div>"
      ],
      "text/plain": [
       "       Current Loan Amount  Credit Score  Years in current job  Annual Income  \\\n",
       "count         1.111070e+05  89769.000000         106414.000000   8.976900e+04   \n",
       "mean          1.147718e+07   1075.795029              5.974308   7.248600e+04   \n",
       "std           3.185508e+07   1474.133505              3.500436   5.593094e+04   \n",
       "min           4.910000e+02    585.000000              1.000000   4.033000e+03   \n",
       "25%           8.162000e+03    705.000000              3.000000   4.468800e+04   \n",
       "50%           1.418300e+04    724.000000              6.000000   6.175200e+04   \n",
       "75%           2.382200e+04    741.000000             10.000000   8.688700e+04   \n",
       "max           1.000000e+08   7510.000000             10.000000   8.713547e+06   \n",
       "\n",
       "        Monthly Debt  Years of Credit History  Months since last delinquent  \\\n",
       "count  111107.000000            111107.000000                  52104.000000   \n",
       "mean      971.970120                18.201003                     34.902272   \n",
       "std       641.640829                 7.014495                     21.970696   \n",
       "min         0.000000                 3.600000                      0.000000   \n",
       "25%       537.755000                13.500000                     16.000000   \n",
       "50%       852.720000                16.900000                     32.000000   \n",
       "75%      1262.630000                21.700000                     51.000000   \n",
       "max     22939.120000                70.500000                    176.000000   \n",
       "\n",
       "       Number of Open Accounts  Number of Credit Problems  \\\n",
       "count            111107.000000              111107.000000   \n",
       "mean                 11.125105                   0.168027   \n",
       "std                   5.010267                   0.484212   \n",
       "min                   0.000000                   0.000000   \n",
       "25%                   8.000000                   0.000000   \n",
       "50%                  10.000000                   0.000000   \n",
       "75%                  14.000000                   0.000000   \n",
       "max                  76.000000                  15.000000   \n",
       "\n",
       "       Current Credit Balance  Maximum Open Credit  Bankruptcies  \\\n",
       "count            1.111070e+05         1.111050e+05  110879.00000   \n",
       "mean             1.548314e+04         3.438644e+04       0.11766   \n",
       "std              1.982115e+04         3.643027e+05       0.35142   \n",
       "min              0.000000e+00         0.000000e+00       0.00000   \n",
       "25%              5.905000e+03         1.241700e+04       0.00000   \n",
       "50%              1.102700e+04         2.124300e+04       0.00000   \n",
       "75%              1.933800e+04         3.558400e+04       0.00000   \n",
       "max              1.730472e+06         6.998809e+07       7.00000   \n",
       "\n",
       "           Tax Liens  \n",
       "count  111096.000000  \n",
       "mean        0.029353  \n",
       "std         0.260575  \n",
       "min         0.000000  \n",
       "25%         0.000000  \n",
       "50%         0.000000  \n",
       "75%         0.000000  \n",
       "max        15.000000  "
      ]
     },
     "execution_count": 15,
     "metadata": {},
     "output_type": "execute_result"
    }
   ],
   "source": [
    "lpd.describe()"
   ]
  },
  {
   "cell_type": "markdown",
   "id": "75419b67",
   "metadata": {},
   "source": [
    "Summary description of categorical variables."
   ]
  },
  {
   "cell_type": "code",
   "execution_count": 16,
   "id": "6ad5e910",
   "metadata": {},
   "outputs": [
    {
     "data": {
      "text/html": [
       "<div>\n",
       "<style scoped>\n",
       "    .dataframe tbody tr th:only-of-type {\n",
       "        vertical-align: middle;\n",
       "    }\n",
       "\n",
       "    .dataframe tbody tr th {\n",
       "        vertical-align: top;\n",
       "    }\n",
       "\n",
       "    .dataframe thead th {\n",
       "        text-align: right;\n",
       "    }\n",
       "</style>\n",
       "<table border=\"1\" class=\"dataframe\">\n",
       "  <thead>\n",
       "    <tr style=\"text-align: right;\">\n",
       "      <th></th>\n",
       "      <th>Loan ID</th>\n",
       "      <th>Customer ID</th>\n",
       "      <th>Loan Status</th>\n",
       "      <th>Term</th>\n",
       "      <th>Home Ownership</th>\n",
       "      <th>Purpose</th>\n",
       "    </tr>\n",
       "  </thead>\n",
       "  <tbody>\n",
       "    <tr>\n",
       "      <th>count</th>\n",
       "      <td>111107</td>\n",
       "      <td>111107</td>\n",
       "      <td>111107</td>\n",
       "      <td>111107</td>\n",
       "      <td>111107</td>\n",
       "      <td>111107</td>\n",
       "    </tr>\n",
       "    <tr>\n",
       "      <th>unique</th>\n",
       "      <td>88910</td>\n",
       "      <td>88910</td>\n",
       "      <td>2</td>\n",
       "      <td>2</td>\n",
       "      <td>4</td>\n",
       "      <td>16</td>\n",
       "    </tr>\n",
       "    <tr>\n",
       "      <th>top</th>\n",
       "      <td>0ef1cefe-875c-47c2-98fe-5d91c53d102f</td>\n",
       "      <td>a03a3a7e-831b-4b39-aa33-bfd839398340</td>\n",
       "      <td>Loan Given</td>\n",
       "      <td>Short Term</td>\n",
       "      <td>Home Mortgage</td>\n",
       "      <td>Debt Consolidation</td>\n",
       "    </tr>\n",
       "    <tr>\n",
       "      <th>freq</th>\n",
       "      <td>2</td>\n",
       "      <td>2</td>\n",
       "      <td>85934</td>\n",
       "      <td>80274</td>\n",
       "      <td>53818</td>\n",
       "      <td>87277</td>\n",
       "    </tr>\n",
       "  </tbody>\n",
       "</table>\n",
       "</div>"
      ],
      "text/plain": [
       "                                     Loan ID  \\\n",
       "count                                 111107   \n",
       "unique                                 88910   \n",
       "top     0ef1cefe-875c-47c2-98fe-5d91c53d102f   \n",
       "freq                                       2   \n",
       "\n",
       "                                 Customer ID Loan Status        Term  \\\n",
       "count                                 111107      111107      111107   \n",
       "unique                                 88910           2           2   \n",
       "top     a03a3a7e-831b-4b39-aa33-bfd839398340  Loan Given  Short Term   \n",
       "freq                                       2       85934       80274   \n",
       "\n",
       "       Home Ownership             Purpose  \n",
       "count          111107              111107  \n",
       "unique              4                  16  \n",
       "top     Home Mortgage  Debt Consolidation  \n",
       "freq            53818               87277  "
      ]
     },
     "execution_count": 16,
     "metadata": {},
     "output_type": "execute_result"
    }
   ],
   "source": [
    "lpd.describe(include = 'object')"
   ]
  },
  {
   "cell_type": "markdown",
   "id": "3abf4cd1",
   "metadata": {},
   "source": [
    "Displaying the shape of the data."
   ]
  },
  {
   "cell_type": "code",
   "execution_count": 17,
   "id": "824dd8ca",
   "metadata": {},
   "outputs": [
    {
     "data": {
      "text/plain": [
       "(111107, 19)"
      ]
     },
     "execution_count": 17,
     "metadata": {},
     "output_type": "execute_result"
    }
   ],
   "source": [
    "lpd.shape"
   ]
  },
  {
   "cell_type": "markdown",
   "id": "d60f3f86",
   "metadata": {},
   "source": [
    "The data contains 111107 rows or observations and 19 features or attributes\n"
   ]
  },
  {
   "cell_type": "markdown",
   "id": "e52fdf3d",
   "metadata": {},
   "source": [
    "#### Checking the sum of missing values in each feature"
   ]
  },
  {
   "cell_type": "code",
   "execution_count": 18,
   "id": "48bb8705",
   "metadata": {
    "scrolled": false
   },
   "outputs": [
    {
     "data": {
      "text/plain": [
       "Loan ID                             0\n",
       "Customer ID                         0\n",
       "Loan Status                         0\n",
       "Current Loan Amount                 0\n",
       "Term                                0\n",
       "Credit Score                    21338\n",
       "Years in current job             4693\n",
       "Home Ownership                      0\n",
       "Annual Income                   21338\n",
       "Purpose                             0\n",
       "Monthly Debt                        0\n",
       "Years of Credit History             0\n",
       "Months since last delinquent    59003\n",
       "Number of Open Accounts             0\n",
       "Number of Credit Problems           0\n",
       "Current Credit Balance              0\n",
       "Maximum Open Credit                 2\n",
       "Bankruptcies                      228\n",
       "Tax Liens                          11\n",
       "dtype: int64"
      ]
     },
     "execution_count": 18,
     "metadata": {},
     "output_type": "execute_result"
    }
   ],
   "source": [
    "lpd.isnull().sum()"
   ]
  },
  {
   "cell_type": "markdown",
   "id": "8ac3a6df",
   "metadata": {},
   "source": [
    "It casn be seen from the information above that 6 of the 19 features has missing values"
   ]
  },
  {
   "cell_type": "markdown",
   "id": "354d8585",
   "metadata": {},
   "source": [
    "#### Counting values and proportions of of values under categorical variables"
   ]
  },
  {
   "cell_type": "markdown",
   "id": "380d9831",
   "metadata": {},
   "source": [
    "Defining a function to to count and plot categories in the categorical features"
   ]
  },
  {
   "cell_type": "code",
   "execution_count": 19,
   "id": "9212251b",
   "metadata": {},
   "outputs": [],
   "source": [
    "def object_type_count(lpd,feature_name):\n",
    "    \"\"\"\n",
    "    This will help know values available in an object('categories'), \n",
    "    type of features and return categorical values with count and proportion\n",
    "    INPUT: Enter the name of the dataset and the specific feature\n",
    "    OUTPUT: Returns value counts of items in categorical feature, corresponding\n",
    "    proportions, and the barchart.\n",
    "    \"\"\"\n",
    "    \n",
    "    \n",
    "    if lpd[feature_name].dtype=='object':\n",
    "        print(lpd[feature_name].value_counts())\n",
    "        print(lpd[feature_name].value_counts(normalize = True))\n",
    "        lpd[feature_name].value_counts().plot.bar()"
   ]
  },
  {
   "cell_type": "code",
   "execution_count": 20,
   "id": "dbff92a5",
   "metadata": {
    "scrolled": true
   },
   "outputs": [
    {
     "name": "stdout",
     "output_type": "stream",
     "text": [
      "Loan Given      85934\n",
      "Loan Refused    25173\n",
      "Name: Loan Status, dtype: int64\n",
      "Loan Given      0.773435\n",
      "Loan Refused    0.226565\n",
      "Name: Loan Status, dtype: float64\n"
     ]
    },
    {
     "data": {
      "image/png": "[encoded data removed]",
      "text/plain": [
       "<Figure size 432x288 with 1 Axes>"
      ]
     },
     "metadata": {
      "needs_background": "light"
     },
     "output_type": "display_data"
    }
   ],
   "source": [
    "object_type_count(lpd,'Loan Status')"
   ]
  },
  {
   "cell_type": "markdown",
   "id": "14554016",
   "metadata": {},
   "source": [
    "Loan status contains 2 different categories. Loans Given and Loan Refused. Loans given made up 77% of the total loans status and 23% of loans refused"
   ]
  },
  {
   "cell_type": "code",
   "execution_count": null,
   "id": "50695e01",
   "metadata": {},
   "outputs": [],
   "source": []
  },
  {
   "cell_type": "code",
   "execution_count": 21,
   "id": "98df1832",
   "metadata": {
    "scrolled": true
   },
   "outputs": [
    {
     "name": "stdout",
     "output_type": "stream",
     "text": [
      "Short Term    80274\n",
      "Long Term     30833\n",
      "Name: Term, dtype: int64\n",
      "Short Term    0.722493\n",
      "Long Term     0.277507\n",
      "Name: Term, dtype: float64\n"
     ]
    },
    {
     "data": {
      "image/png": "[encoded data removed]",
      "text/plain": [
       "<Figure size 432x288 with 1 Axes>"
      ]
     },
     "metadata": {
      "needs_background": "light"
     },
     "output_type": "display_data"
    }
   ],
   "source": [
    "object_type_count(lpd,'Term')\n"
   ]
  },
  {
   "cell_type": "markdown",
   "id": "88b009cf",
   "metadata": {},
   "source": [
    "Term contains 2 categories. 72% for short term and 28% for long term."
   ]
  },
  {
   "cell_type": "code",
   "execution_count": 22,
   "id": "495f7e29",
   "metadata": {
    "scrolled": true
   },
   "outputs": [
    {
     "name": "stdout",
     "output_type": "stream",
     "text": [
      "Debt Consolidation      87277\n",
      "other                    6671\n",
      "Home Improvements        6504\n",
      "Other                    3595\n",
      "Business Loan            1749\n",
      "Buy a Car                1422\n",
      "Medical Bills            1259\n",
      "Buy House                 758\n",
      "Take a Trip               622\n",
      "major_purchase            407\n",
      "small_business            318\n",
      "moving                    167\n",
      "wedding                   126\n",
      "Educational Expenses      114\n",
      "vacation                  107\n",
      "renewable_energy           11\n",
      "Name: Purpose, dtype: int64\n",
      "Debt Consolidation      0.785522\n",
      "other                   0.060041\n",
      "Home Improvements       0.058538\n",
      "Other                   0.032356\n",
      "Business Loan           0.015742\n",
      "Buy a Car               0.012798\n",
      "Medical Bills           0.011331\n",
      "Buy House               0.006822\n",
      "Take a Trip             0.005598\n",
      "major_purchase          0.003663\n",
      "small_business          0.002862\n",
      "moving                  0.001503\n",
      "wedding                 0.001134\n",
      "Educational Expenses    0.001026\n",
      "vacation                0.000963\n",
      "renewable_energy        0.000099\n",
      "Name: Purpose, dtype: float64\n"
     ]
    },
    {
     "data": {
      "image/png": "[encoded data removed]",
      "text/plain": [
       "<Figure size 432x288 with 1 Axes>"
      ]
     },
     "metadata": {
      "needs_background": "light"
     },
     "output_type": "display_data"
    }
   ],
   "source": [
    "object_type_count(lpd,'Purpose')"
   ]
  },
  {
   "cell_type": "markdown",
   "id": "7e49d4db",
   "metadata": {},
   "source": [
    "Debt consolidation contains more than half of the proportion of the categories.\n",
    "This feature will be dropped due to the bias it contains."
   ]
  },
  {
   "cell_type": "code",
   "execution_count": 23,
   "id": "24876290",
   "metadata": {},
   "outputs": [
    {
     "name": "stdout",
     "output_type": "stream",
     "text": [
      "Home Mortgage    53818\n",
      "Rent             46868\n",
      "Own Home         10188\n",
      "HaveMortgage       233\n",
      "Name: Home Ownership, dtype: int64\n",
      "Home Mortgage    0.484380\n",
      "Rent             0.421828\n",
      "Own Home         0.091695\n",
      "HaveMortgage     0.002097\n",
      "Name: Home Ownership, dtype: float64\n"
     ]
    },
    {
     "data": {
      "image/png": "[encoded data removed]",
      "text/plain": [
       "<Figure size 432x288 with 1 Axes>"
      ]
     },
     "metadata": {
      "needs_background": "light"
     },
     "output_type": "display_data"
    }
   ],
   "source": [
    "object_type_count(lpd,'Home Ownership')"
   ]
  },
  {
   "cell_type": "code",
   "execution_count": 24,
   "id": "221ea0cf",
   "metadata": {},
   "outputs": [
    {
     "data": {
      "text/html": [
       "<div>\n",
       "<style scoped>\n",
       "    .dataframe tbody tr th:only-of-type {\n",
       "        vertical-align: middle;\n",
       "    }\n",
       "\n",
       "    .dataframe tbody tr th {\n",
       "        vertical-align: top;\n",
       "    }\n",
       "\n",
       "    .dataframe thead th {\n",
       "        text-align: right;\n",
       "    }\n",
       "</style>\n",
       "<table border=\"1\" class=\"dataframe\">\n",
       "  <thead>\n",
       "    <tr style=\"text-align: right;\">\n",
       "      <th></th>\n",
       "      <th>Current Loan Amount</th>\n",
       "      <th>Credit Score</th>\n",
       "      <th>Years in current job</th>\n",
       "      <th>Annual Income</th>\n",
       "      <th>Monthly Debt</th>\n",
       "      <th>Years of Credit History</th>\n",
       "      <th>Months since last delinquent</th>\n",
       "      <th>Number of Open Accounts</th>\n",
       "      <th>Number of Credit Problems</th>\n",
       "      <th>Current Credit Balance</th>\n",
       "      <th>Maximum Open Credit</th>\n",
       "      <th>Bankruptcies</th>\n",
       "      <th>Tax Liens</th>\n",
       "    </tr>\n",
       "  </thead>\n",
       "  <tbody>\n",
       "    <tr>\n",
       "      <th>0</th>\n",
       "      <td>12232</td>\n",
       "      <td>7280.0</td>\n",
       "      <td>1.0</td>\n",
       "      <td>46643.0</td>\n",
       "      <td>777.39</td>\n",
       "      <td>18.0</td>\n",
       "      <td>10.0</td>\n",
       "      <td>12</td>\n",
       "      <td>0</td>\n",
       "      <td>6762</td>\n",
       "      <td>7946.0</td>\n",
       "      <td>0.0</td>\n",
       "      <td>0.0</td>\n",
       "    </tr>\n",
       "    <tr>\n",
       "      <th>1</th>\n",
       "      <td>25014</td>\n",
       "      <td>7330.0</td>\n",
       "      <td>10.0</td>\n",
       "      <td>81099.0</td>\n",
       "      <td>892.09</td>\n",
       "      <td>26.7</td>\n",
       "      <td>NaN</td>\n",
       "      <td>14</td>\n",
       "      <td>0</td>\n",
       "      <td>35706</td>\n",
       "      <td>77961.0</td>\n",
       "      <td>0.0</td>\n",
       "      <td>0.0</td>\n",
       "    </tr>\n",
       "    <tr>\n",
       "      <th>2</th>\n",
       "      <td>16117</td>\n",
       "      <td>7240.0</td>\n",
       "      <td>9.0</td>\n",
       "      <td>60438.0</td>\n",
       "      <td>1244.02</td>\n",
       "      <td>16.7</td>\n",
       "      <td>32.0</td>\n",
       "      <td>11</td>\n",
       "      <td>1</td>\n",
       "      <td>11275</td>\n",
       "      <td>14815.0</td>\n",
       "      <td>1.0</td>\n",
       "      <td>0.0</td>\n",
       "    </tr>\n",
       "    <tr>\n",
       "      <th>3</th>\n",
       "      <td>11716</td>\n",
       "      <td>7400.0</td>\n",
       "      <td>3.0</td>\n",
       "      <td>34171.0</td>\n",
       "      <td>990.94</td>\n",
       "      <td>10.0</td>\n",
       "      <td>NaN</td>\n",
       "      <td>21</td>\n",
       "      <td>0</td>\n",
       "      <td>7009</td>\n",
       "      <td>43533.0</td>\n",
       "      <td>0.0</td>\n",
       "      <td>0.0</td>\n",
       "    </tr>\n",
       "    <tr>\n",
       "      <th>4</th>\n",
       "      <td>9789</td>\n",
       "      <td>6860.0</td>\n",
       "      <td>10.0</td>\n",
       "      <td>47003.0</td>\n",
       "      <td>503.71</td>\n",
       "      <td>16.7</td>\n",
       "      <td>25.0</td>\n",
       "      <td>13</td>\n",
       "      <td>1</td>\n",
       "      <td>16913</td>\n",
       "      <td>19553.0</td>\n",
       "      <td>1.0</td>\n",
       "      <td>0.0</td>\n",
       "    </tr>\n",
       "    <tr>\n",
       "      <th>...</th>\n",
       "      <td>...</td>\n",
       "      <td>...</td>\n",
       "      <td>...</td>\n",
       "      <td>...</td>\n",
       "      <td>...</td>\n",
       "      <td>...</td>\n",
       "      <td>...</td>\n",
       "      <td>...</td>\n",
       "      <td>...</td>\n",
       "      <td>...</td>\n",
       "      <td>...</td>\n",
       "      <td>...</td>\n",
       "      <td>...</td>\n",
       "    </tr>\n",
       "    <tr>\n",
       "      <th>111102</th>\n",
       "      <td>15654</td>\n",
       "      <td>686.0</td>\n",
       "      <td>10.0</td>\n",
       "      <td>43050.0</td>\n",
       "      <td>889.69</td>\n",
       "      <td>14.1</td>\n",
       "      <td>49.0</td>\n",
       "      <td>18</td>\n",
       "      <td>0</td>\n",
       "      <td>14730</td>\n",
       "      <td>29757.0</td>\n",
       "      <td>0.0</td>\n",
       "      <td>0.0</td>\n",
       "    </tr>\n",
       "    <tr>\n",
       "      <th>111103</th>\n",
       "      <td>15237</td>\n",
       "      <td>706.0</td>\n",
       "      <td>10.0</td>\n",
       "      <td>60948.0</td>\n",
       "      <td>700.90</td>\n",
       "      <td>15.9</td>\n",
       "      <td>48.0</td>\n",
       "      <td>11</td>\n",
       "      <td>0</td>\n",
       "      <td>17733</td>\n",
       "      <td>23060.0</td>\n",
       "      <td>0.0</td>\n",
       "      <td>0.0</td>\n",
       "    </tr>\n",
       "    <tr>\n",
       "      <th>111104</th>\n",
       "      <td>10413</td>\n",
       "      <td>719.0</td>\n",
       "      <td>5.0</td>\n",
       "      <td>66945.0</td>\n",
       "      <td>1210.59</td>\n",
       "      <td>8.7</td>\n",
       "      <td>NaN</td>\n",
       "      <td>11</td>\n",
       "      <td>0</td>\n",
       "      <td>5205</td>\n",
       "      <td>6348.0</td>\n",
       "      <td>0.0</td>\n",
       "      <td>0.0</td>\n",
       "    </tr>\n",
       "    <tr>\n",
       "      <th>111105</th>\n",
       "      <td>34447</td>\n",
       "      <td>626.0</td>\n",
       "      <td>10.0</td>\n",
       "      <td>78736.0</td>\n",
       "      <td>1476.30</td>\n",
       "      <td>30.4</td>\n",
       "      <td>9.0</td>\n",
       "      <td>12</td>\n",
       "      <td>0</td>\n",
       "      <td>32318</td>\n",
       "      <td>37580.0</td>\n",
       "      <td>0.0</td>\n",
       "      <td>0.0</td>\n",
       "    </tr>\n",
       "    <tr>\n",
       "      <th>111106</th>\n",
       "      <td>9209</td>\n",
       "      <td>708.0</td>\n",
       "      <td>1.0</td>\n",
       "      <td>123454.0</td>\n",
       "      <td>668.71</td>\n",
       "      <td>20.1</td>\n",
       "      <td>16.0</td>\n",
       "      <td>8</td>\n",
       "      <td>0</td>\n",
       "      <td>6835</td>\n",
       "      <td>9261.0</td>\n",
       "      <td>0.0</td>\n",
       "      <td>0.0</td>\n",
       "    </tr>\n",
       "  </tbody>\n",
       "</table>\n",
       "<p>111107 rows × 13 columns</p>\n",
       "</div>"
      ],
      "text/plain": [
       "        Current Loan Amount  Credit Score  Years in current job  \\\n",
       "0                     12232        7280.0                   1.0   \n",
       "1                     25014        7330.0                  10.0   \n",
       "2                     16117        7240.0                   9.0   \n",
       "3                     11716        7400.0                   3.0   \n",
       "4                      9789        6860.0                  10.0   \n",
       "...                     ...           ...                   ...   \n",
       "111102                15654         686.0                  10.0   \n",
       "111103                15237         706.0                  10.0   \n",
       "111104                10413         719.0                   5.0   \n",
       "111105                34447         626.0                  10.0   \n",
       "111106                 9209         708.0                   1.0   \n",
       "\n",
       "        Annual Income  Monthly Debt  Years of Credit History  \\\n",
       "0             46643.0        777.39                     18.0   \n",
       "1             81099.0        892.09                     26.7   \n",
       "2             60438.0       1244.02                     16.7   \n",
       "3             34171.0        990.94                     10.0   \n",
       "4             47003.0        503.71                     16.7   \n",
       "...               ...           ...                      ...   \n",
       "111102        43050.0        889.69                     14.1   \n",
       "111103        60948.0        700.90                     15.9   \n",
       "111104        66945.0       1210.59                      8.7   \n",
       "111105        78736.0       1476.30                     30.4   \n",
       "111106       123454.0        668.71                     20.1   \n",
       "\n",
       "        Months since last delinquent  Number of Open Accounts  \\\n",
       "0                               10.0                       12   \n",
       "1                                NaN                       14   \n",
       "2                               32.0                       11   \n",
       "3                                NaN                       21   \n",
       "4                               25.0                       13   \n",
       "...                              ...                      ...   \n",
       "111102                          49.0                       18   \n",
       "111103                          48.0                       11   \n",
       "111104                           NaN                       11   \n",
       "111105                           9.0                       12   \n",
       "111106                          16.0                        8   \n",
       "\n",
       "        Number of Credit Problems  Current Credit Balance  \\\n",
       "0                               0                    6762   \n",
       "1                               0                   35706   \n",
       "2                               1                   11275   \n",
       "3                               0                    7009   \n",
       "4                               1                   16913   \n",
       "...                           ...                     ...   \n",
       "111102                          0                   14730   \n",
       "111103                          0                   17733   \n",
       "111104                          0                    5205   \n",
       "111105                          0                   32318   \n",
       "111106                          0                    6835   \n",
       "\n",
       "        Maximum Open Credit  Bankruptcies  Tax Liens  \n",
       "0                    7946.0           0.0        0.0  \n",
       "1                   77961.0           0.0        0.0  \n",
       "2                   14815.0           1.0        0.0  \n",
       "3                   43533.0           0.0        0.0  \n",
       "4                   19553.0           1.0        0.0  \n",
       "...                     ...           ...        ...  \n",
       "111102              29757.0           0.0        0.0  \n",
       "111103              23060.0           0.0        0.0  \n",
       "111104               6348.0           0.0        0.0  \n",
       "111105              37580.0           0.0        0.0  \n",
       "111106               9261.0           0.0        0.0  \n",
       "\n",
       "[111107 rows x 13 columns]"
      ]
     },
     "execution_count": 24,
     "metadata": {},
     "output_type": "execute_result"
    }
   ],
   "source": [
    "numerical_variables = lpd.select_dtypes(include = np.number)\n",
    "numerical_variables"
   ]
  },
  {
   "cell_type": "code",
   "execution_count": 25,
   "id": "c6049524",
   "metadata": {},
   "outputs": [
    {
     "data": {
      "text/html": [
       "<div>\n",
       "<style scoped>\n",
       "    .dataframe tbody tr th:only-of-type {\n",
       "        vertical-align: middle;\n",
       "    }\n",
       "\n",
       "    .dataframe tbody tr th {\n",
       "        vertical-align: top;\n",
       "    }\n",
       "\n",
       "    .dataframe thead th {\n",
       "        text-align: right;\n",
       "    }\n",
       "</style>\n",
       "<table border=\"1\" class=\"dataframe\">\n",
       "  <thead>\n",
       "    <tr style=\"text-align: right;\">\n",
       "      <th></th>\n",
       "      <th>Current Loan Amount</th>\n",
       "      <th>Credit Score</th>\n",
       "      <th>Years in current job</th>\n",
       "      <th>Annual Income</th>\n",
       "      <th>Monthly Debt</th>\n",
       "      <th>Years of Credit History</th>\n",
       "      <th>Months since last delinquent</th>\n",
       "      <th>Number of Open Accounts</th>\n",
       "      <th>Number of Credit Problems</th>\n",
       "      <th>Current Credit Balance</th>\n",
       "      <th>Maximum Open Credit</th>\n",
       "      <th>Bankruptcies</th>\n",
       "      <th>Tax Liens</th>\n",
       "    </tr>\n",
       "  </thead>\n",
       "  <tbody>\n",
       "    <tr>\n",
       "      <th>Current Loan Amount</th>\n",
       "      <td>1.000000</td>\n",
       "      <td>0.096565</td>\n",
       "      <td>0.001897</td>\n",
       "      <td>0.010673</td>\n",
       "      <td>0.010440</td>\n",
       "      <td>0.018193</td>\n",
       "      <td>0.009815</td>\n",
       "      <td>0.000084</td>\n",
       "      <td>0.001904</td>\n",
       "      <td>0.001862</td>\n",
       "      <td>0.001424</td>\n",
       "      <td>0.000676</td>\n",
       "      <td>0.000127</td>\n",
       "    </tr>\n",
       "    <tr>\n",
       "      <th>Credit Score</th>\n",
       "      <td>0.096565</td>\n",
       "      <td>1.000000</td>\n",
       "      <td>0.005879</td>\n",
       "      <td>0.019999</td>\n",
       "      <td>0.003228</td>\n",
       "      <td>0.010127</td>\n",
       "      <td>0.002741</td>\n",
       "      <td>0.005579</td>\n",
       "      <td>0.001948</td>\n",
       "      <td>0.001758</td>\n",
       "      <td>0.003071</td>\n",
       "      <td>0.005786</td>\n",
       "      <td>0.005155</td>\n",
       "    </tr>\n",
       "    <tr>\n",
       "      <th>Years in current job</th>\n",
       "      <td>0.001897</td>\n",
       "      <td>0.005879</td>\n",
       "      <td>1.000000</td>\n",
       "      <td>0.079529</td>\n",
       "      <td>0.129979</td>\n",
       "      <td>0.227092</td>\n",
       "      <td>0.003213</td>\n",
       "      <td>0.052004</td>\n",
       "      <td>0.039682</td>\n",
       "      <td>0.098356</td>\n",
       "      <td>0.002146</td>\n",
       "      <td>0.040744</td>\n",
       "      <td>0.013010</td>\n",
       "    </tr>\n",
       "    <tr>\n",
       "      <th>Annual Income</th>\n",
       "      <td>0.010673</td>\n",
       "      <td>0.019999</td>\n",
       "      <td>0.079529</td>\n",
       "      <td>1.000000</td>\n",
       "      <td>0.491350</td>\n",
       "      <td>0.163397</td>\n",
       "      <td>0.075919</td>\n",
       "      <td>0.148766</td>\n",
       "      <td>0.015702</td>\n",
       "      <td>0.311503</td>\n",
       "      <td>0.053650</td>\n",
       "      <td>0.048532</td>\n",
       "      <td>0.042600</td>\n",
       "    </tr>\n",
       "    <tr>\n",
       "      <th>Monthly Debt</th>\n",
       "      <td>0.010440</td>\n",
       "      <td>0.003228</td>\n",
       "      <td>0.129979</td>\n",
       "      <td>0.491350</td>\n",
       "      <td>1.000000</td>\n",
       "      <td>0.199040</td>\n",
       "      <td>0.054496</td>\n",
       "      <td>0.411867</td>\n",
       "      <td>0.053780</td>\n",
       "      <td>0.480299</td>\n",
       "      <td>0.040756</td>\n",
       "      <td>0.079225</td>\n",
       "      <td>0.022274</td>\n",
       "    </tr>\n",
       "    <tr>\n",
       "      <th>Years of Credit History</th>\n",
       "      <td>0.018193</td>\n",
       "      <td>0.010127</td>\n",
       "      <td>0.227092</td>\n",
       "      <td>0.163397</td>\n",
       "      <td>0.199040</td>\n",
       "      <td>1.000000</td>\n",
       "      <td>0.042866</td>\n",
       "      <td>0.132027</td>\n",
       "      <td>0.062915</td>\n",
       "      <td>0.207137</td>\n",
       "      <td>0.032039</td>\n",
       "      <td>0.066311</td>\n",
       "      <td>0.019959</td>\n",
       "    </tr>\n",
       "    <tr>\n",
       "      <th>Months since last delinquent</th>\n",
       "      <td>0.009815</td>\n",
       "      <td>0.002741</td>\n",
       "      <td>0.003213</td>\n",
       "      <td>0.075919</td>\n",
       "      <td>0.054496</td>\n",
       "      <td>0.042866</td>\n",
       "      <td>1.000000</td>\n",
       "      <td>0.032356</td>\n",
       "      <td>0.105628</td>\n",
       "      <td>0.027322</td>\n",
       "      <td>0.009639</td>\n",
       "      <td>0.126004</td>\n",
       "      <td>0.011661</td>\n",
       "    </tr>\n",
       "    <tr>\n",
       "      <th>Number of Open Accounts</th>\n",
       "      <td>0.000084</td>\n",
       "      <td>0.005579</td>\n",
       "      <td>0.052004</td>\n",
       "      <td>0.148766</td>\n",
       "      <td>0.411867</td>\n",
       "      <td>0.132027</td>\n",
       "      <td>0.032356</td>\n",
       "      <td>1.000000</td>\n",
       "      <td>0.013996</td>\n",
       "      <td>0.227014</td>\n",
       "      <td>0.032530</td>\n",
       "      <td>0.024052</td>\n",
       "      <td>0.006841</td>\n",
       "    </tr>\n",
       "    <tr>\n",
       "      <th>Number of Credit Problems</th>\n",
       "      <td>0.001904</td>\n",
       "      <td>0.001948</td>\n",
       "      <td>0.039682</td>\n",
       "      <td>0.015702</td>\n",
       "      <td>0.053780</td>\n",
       "      <td>0.062915</td>\n",
       "      <td>0.105628</td>\n",
       "      <td>0.013996</td>\n",
       "      <td>1.000000</td>\n",
       "      <td>0.111938</td>\n",
       "      <td>0.012652</td>\n",
       "      <td>0.752255</td>\n",
       "      <td>0.585772</td>\n",
       "    </tr>\n",
       "    <tr>\n",
       "      <th>Current Credit Balance</th>\n",
       "      <td>0.001862</td>\n",
       "      <td>0.001758</td>\n",
       "      <td>0.098356</td>\n",
       "      <td>0.311503</td>\n",
       "      <td>0.480299</td>\n",
       "      <td>0.207137</td>\n",
       "      <td>0.027322</td>\n",
       "      <td>0.227014</td>\n",
       "      <td>0.111938</td>\n",
       "      <td>1.000000</td>\n",
       "      <td>0.142420</td>\n",
       "      <td>0.122544</td>\n",
       "      <td>0.015476</td>\n",
       "    </tr>\n",
       "    <tr>\n",
       "      <th>Maximum Open Credit</th>\n",
       "      <td>0.001424</td>\n",
       "      <td>0.003071</td>\n",
       "      <td>0.002146</td>\n",
       "      <td>0.053650</td>\n",
       "      <td>0.040756</td>\n",
       "      <td>0.032039</td>\n",
       "      <td>0.009639</td>\n",
       "      <td>0.032530</td>\n",
       "      <td>0.012652</td>\n",
       "      <td>0.142420</td>\n",
       "      <td>1.000000</td>\n",
       "      <td>0.015159</td>\n",
       "      <td>0.001181</td>\n",
       "    </tr>\n",
       "    <tr>\n",
       "      <th>Bankruptcies</th>\n",
       "      <td>0.000676</td>\n",
       "      <td>0.005786</td>\n",
       "      <td>0.040744</td>\n",
       "      <td>0.048532</td>\n",
       "      <td>0.079225</td>\n",
       "      <td>0.066311</td>\n",
       "      <td>0.126004</td>\n",
       "      <td>0.024052</td>\n",
       "      <td>0.752255</td>\n",
       "      <td>0.122544</td>\n",
       "      <td>0.015159</td>\n",
       "      <td>1.000000</td>\n",
       "      <td>0.048245</td>\n",
       "    </tr>\n",
       "    <tr>\n",
       "      <th>Tax Liens</th>\n",
       "      <td>0.000127</td>\n",
       "      <td>0.005155</td>\n",
       "      <td>0.013010</td>\n",
       "      <td>0.042600</td>\n",
       "      <td>0.022274</td>\n",
       "      <td>0.019959</td>\n",
       "      <td>0.011661</td>\n",
       "      <td>0.006841</td>\n",
       "      <td>0.585772</td>\n",
       "      <td>0.015476</td>\n",
       "      <td>0.001181</td>\n",
       "      <td>0.048245</td>\n",
       "      <td>1.000000</td>\n",
       "    </tr>\n",
       "  </tbody>\n",
       "</table>\n",
       "</div>"
      ],
      "text/plain": [
       "                              Current Loan Amount  Credit Score  \\\n",
       "Current Loan Amount                      1.000000      0.096565   \n",
       "Credit Score                             0.096565      1.000000   \n",
       "Years in current job                     0.001897      0.005879   \n",
       "Annual Income                            0.010673      0.019999   \n",
       "Monthly Debt                             0.010440      0.003228   \n",
       "Years of Credit History                  0.018193      0.010127   \n",
       "Months since last delinquent             0.009815      0.002741   \n",
       "Number of Open Accounts                  0.000084      0.005579   \n",
       "Number of Credit Problems                0.001904      0.001948   \n",
       "Current Credit Balance                   0.001862      0.001758   \n",
       "Maximum Open Credit                      0.001424      0.003071   \n",
       "Bankruptcies                             0.000676      0.005786   \n",
       "Tax Liens                                0.000127      0.005155   \n",
       "\n",
       "                              Years in current job  Annual Income  \\\n",
       "Current Loan Amount                       0.001897       0.010673   \n",
       "Credit Score                              0.005879       0.019999   \n",
       "Years in current job                      1.000000       0.079529   \n",
       "Annual Income                             0.079529       1.000000   \n",
       "Monthly Debt                              0.129979       0.491350   \n",
       "Years of Credit History                   0.227092       0.163397   \n",
       "Months since last delinquent              0.003213       0.075919   \n",
       "Number of Open Accounts                   0.052004       0.148766   \n",
       "Number of Credit Problems                 0.039682       0.015702   \n",
       "Current Credit Balance                    0.098356       0.311503   \n",
       "Maximum Open Credit                       0.002146       0.053650   \n",
       "Bankruptcies                              0.040744       0.048532   \n",
       "Tax Liens                                 0.013010       0.042600   \n",
       "\n",
       "                              Monthly Debt  Years of Credit History  \\\n",
       "Current Loan Amount               0.010440                 0.018193   \n",
       "Credit Score                      0.003228                 0.010127   \n",
       "Years in current job              0.129979                 0.227092   \n",
       "Annual Income                     0.491350                 0.163397   \n",
       "Monthly Debt                      1.000000                 0.199040   \n",
       "Years of Credit History           0.199040                 1.000000   \n",
       "Months since last delinquent      0.054496                 0.042866   \n",
       "Number of Open Accounts           0.411867                 0.132027   \n",
       "Number of Credit Problems         0.053780                 0.062915   \n",
       "Current Credit Balance            0.480299                 0.207137   \n",
       "Maximum Open Credit               0.040756                 0.032039   \n",
       "Bankruptcies                      0.079225                 0.066311   \n",
       "Tax Liens                         0.022274                 0.019959   \n",
       "\n",
       "                              Months since last delinquent  \\\n",
       "Current Loan Amount                               0.009815   \n",
       "Credit Score                                      0.002741   \n",
       "Years in current job                              0.003213   \n",
       "Annual Income                                     0.075919   \n",
       "Monthly Debt                                      0.054496   \n",
       "Years of Credit History                           0.042866   \n",
       "Months since last delinquent                      1.000000   \n",
       "Number of Open Accounts                           0.032356   \n",
       "Number of Credit Problems                         0.105628   \n",
       "Current Credit Balance                            0.027322   \n",
       "Maximum Open Credit                               0.009639   \n",
       "Bankruptcies                                      0.126004   \n",
       "Tax Liens                                         0.011661   \n",
       "\n",
       "                              Number of Open Accounts  \\\n",
       "Current Loan Amount                          0.000084   \n",
       "Credit Score                                 0.005579   \n",
       "Years in current job                         0.052004   \n",
       "Annual Income                                0.148766   \n",
       "Monthly Debt                                 0.411867   \n",
       "Years of Credit History                      0.132027   \n",
       "Months since last delinquent                 0.032356   \n",
       "Number of Open Accounts                      1.000000   \n",
       "Number of Credit Problems                    0.013996   \n",
       "Current Credit Balance                       0.227014   \n",
       "Maximum Open Credit                          0.032530   \n",
       "Bankruptcies                                 0.024052   \n",
       "Tax Liens                                    0.006841   \n",
       "\n",
       "                              Number of Credit Problems  \\\n",
       "Current Loan Amount                            0.001904   \n",
       "Credit Score                                   0.001948   \n",
       "Years in current job                           0.039682   \n",
       "Annual Income                                  0.015702   \n",
       "Monthly Debt                                   0.053780   \n",
       "Years of Credit History                        0.062915   \n",
       "Months since last delinquent                   0.105628   \n",
       "Number of Open Accounts                        0.013996   \n",
       "Number of Credit Problems                      1.000000   \n",
       "Current Credit Balance                         0.111938   \n",
       "Maximum Open Credit                            0.012652   \n",
       "Bankruptcies                                   0.752255   \n",
       "Tax Liens                                      0.585772   \n",
       "\n",
       "                              Current Credit Balance  Maximum Open Credit  \\\n",
       "Current Loan Amount                         0.001862             0.001424   \n",
       "Credit Score                                0.001758             0.003071   \n",
       "Years in current job                        0.098356             0.002146   \n",
       "Annual Income                               0.311503             0.053650   \n",
       "Monthly Debt                                0.480299             0.040756   \n",
       "Years of Credit History                     0.207137             0.032039   \n",
       "Months since last delinquent                0.027322             0.009639   \n",
       "Number of Open Accounts                     0.227014             0.032530   \n",
       "Number of Credit Problems                   0.111938             0.012652   \n",
       "Current Credit Balance                      1.000000             0.142420   \n",
       "Maximum Open Credit                         0.142420             1.000000   \n",
       "Bankruptcies                                0.122544             0.015159   \n",
       "Tax Liens                                   0.015476             0.001181   \n",
       "\n",
       "                              Bankruptcies  Tax Liens  \n",
       "Current Loan Amount               0.000676   0.000127  \n",
       "Credit Score                      0.005786   0.005155  \n",
       "Years in current job              0.040744   0.013010  \n",
       "Annual Income                     0.048532   0.042600  \n",
       "Monthly Debt                      0.079225   0.022274  \n",
       "Years of Credit History           0.066311   0.019959  \n",
       "Months since last delinquent      0.126004   0.011661  \n",
       "Number of Open Accounts           0.024052   0.006841  \n",
       "Number of Credit Problems         0.752255   0.585772  \n",
       "Current Credit Balance            0.122544   0.015476  \n",
       "Maximum Open Credit               0.015159   0.001181  \n",
       "Bankruptcies                      1.000000   0.048245  \n",
       "Tax Liens                         0.048245   1.000000  "
      ]
     },
     "execution_count": 25,
     "metadata": {},
     "output_type": "execute_result"
    }
   ],
   "source": [
    "cor = numerical_variables.corr().abs()\n",
    "cor"
   ]
  },
  {
   "cell_type": "code",
   "execution_count": 26,
   "id": "8295aa4e",
   "metadata": {},
   "outputs": [
    {
     "data": {
      "image/png": "[encoded data removed]",
      "text/plain": [
       "<Figure size 1080x720 with 2 Axes>"
      ]
     },
     "metadata": {
      "needs_background": "light"
     },
     "output_type": "display_data"
    }
   ],
   "source": [
    "plt.figure(figsize = (15,10))\n",
    "sns.heatmap(cor, vmax = 1, square = True,cmap = 'BuPu', annot = True)\n",
    "plt.show()"
   ]
  },
  {
   "cell_type": "markdown",
   "id": "4afc2277",
   "metadata": {},
   "source": [
    "From the heatmap above, it can be seen that some features are correlated. This means they serve a similar purpose in the dataset. However, one of these columns will be dropped"
   ]
  },
  {
   "cell_type": "markdown",
   "id": "c2422091",
   "metadata": {},
   "source": [
    "### Dropping unwanted columns"
   ]
  },
  {
   "cell_type": "markdown",
   "id": "73bc6fab",
   "metadata": {},
   "source": [
    "Definning a function to help drop features. Some features will be dropped based on their significance on the outcome of the work. Others will be dropped based on the bias between the categories they contain."
   ]
  },
  {
   "cell_type": "code",
   "execution_count": 27,
   "id": "40a48f5a",
   "metadata": {},
   "outputs": [],
   "source": [
    "def column_drop(lpd, feature_name):\n",
    "    \"\"\"\n",
    "    This function will aid in dropping or removing columns that will\n",
    "    not be used in this work.\n",
    "    INPUT: impute data frame and name of the feature to be dropped\n",
    "    OUTPUT: specified feature will be dropped\n",
    "    \"\"\"\n",
    "    \n",
    "    \n",
    "    lpd.drop(feature_name, axis = 1, inplace = True)"
   ]
  },
  {
   "cell_type": "code",
   "execution_count": 28,
   "id": "63d4468c",
   "metadata": {},
   "outputs": [],
   "source": [
    "column_drop(lpd,'Loan ID')\n",
    "column_drop(lpd,'Customer ID')\n",
    "column_drop(lpd,'Bankruptcies') # Dropped because of the correlation between Bankruptcies and Number of credit problems\n",
    "column_drop(lpd, 'Tax Liens')\n",
    "column_drop(lpd, 'Purpose')\n",
    "column_drop(lpd, 'Home Ownership')"
   ]
  },
  {
   "cell_type": "code",
   "execution_count": null,
   "id": "46ece284",
   "metadata": {},
   "outputs": [],
   "source": []
  },
  {
   "cell_type": "code",
   "execution_count": null,
   "id": "fcdde70f",
   "metadata": {},
   "outputs": [],
   "source": []
  },
  {
   "cell_type": "code",
   "execution_count": null,
   "id": "6cfc1689",
   "metadata": {},
   "outputs": [],
   "source": []
  },
  {
   "cell_type": "markdown",
   "id": "216ce113",
   "metadata": {},
   "source": [
    "#### INSPECTING OUTLIERS IN NUMERICAL FEATURES"
   ]
  },
  {
   "cell_type": "code",
   "execution_count": 29,
   "id": "d37ce69a",
   "metadata": {},
   "outputs": [],
   "source": [
    "def outlier_check(lpd,feature_name):\n",
    "\n",
    "    sns.boxplot(lpd[feature_name], orient = 'v')\n",
    "    plt.show()"
   ]
  },
  {
   "cell_type": "code",
   "execution_count": 30,
   "id": "57afaa51",
   "metadata": {},
   "outputs": [
    {
     "data": {
      "image/png": "[encoded data removed]",
      "text/plain": [
       "<Figure size 432x288 with 1 Axes>"
      ]
     },
     "metadata": {
      "needs_background": "light"
     },
     "output_type": "display_data"
    }
   ],
   "source": [
    "outlier_check(lpd,'Current Loan Amount')"
   ]
  },
  {
   "cell_type": "markdown",
   "id": "d7595867",
   "metadata": {},
   "source": [
    " Mean and Standard deviation based approach: keep values that fall within the range of (mean -3 * std) and (mean +3 * std)"
   ]
  },
  {
   "cell_type": "code",
   "execution_count": 31,
   "id": "3feac8b2",
   "metadata": {},
   "outputs": [],
   "source": [
    "mean_ = lpd['Current Loan Amount'].mean()\n",
    "\n",
    "std_ = lpd['Current Loan Amount'].std()\n",
    "\n",
    "cut_off =std_*3\n",
    "\n",
    "lower,upper = mean_-std_ , mean_+std_"
   ]
  },
  {
   "cell_type": "code",
   "execution_count": 32,
   "id": "ee557550",
   "metadata": {},
   "outputs": [],
   "source": [
    "std_method = (lpd['Current Loan Amount']<upper)& (lpd['Current Loan Amount']>lower)"
   ]
  },
  {
   "cell_type": "code",
   "execution_count": 33,
   "id": "b85e8964",
   "metadata": {},
   "outputs": [],
   "source": [
    "std_method = lpd['Current Loan Amount'][(lpd['Current Loan Amount']<upper)& (lpd['Current Loan Amount']>lower)]"
   ]
  },
  {
   "cell_type": "code",
   "execution_count": 34,
   "id": "d69eb613",
   "metadata": {},
   "outputs": [
    {
     "data": {
      "image/png": "[encoded data removed]",
      "text/plain": [
       "<Figure size 432x288 with 1 Axes>"
      ]
     },
     "metadata": {
      "needs_background": "light"
     },
     "output_type": "display_data"
    }
   ],
   "source": [
    "sns.boxplot(std_method,orient = 'v')\n",
    "plt.show()"
   ]
  },
  {
   "cell_type": "code",
   "execution_count": 35,
   "id": "61c05ffb",
   "metadata": {},
   "outputs": [],
   "source": [
    "lpd['Current Loan Amount'] = std_method"
   ]
  },
  {
   "cell_type": "code",
   "execution_count": 36,
   "id": "da232712",
   "metadata": {
    "scrolled": true
   },
   "outputs": [
    {
     "data": {
      "image/png": "[encoded data removed]",
      "text/plain": [
       "<Figure size 432x288 with 1 Axes>"
      ]
     },
     "metadata": {
      "needs_background": "light"
     },
     "output_type": "display_data"
    }
   ],
   "source": [
    "outlier_check(lpd,'Credit Score')"
   ]
  },
  {
   "cell_type": "code",
   "execution_count": 37,
   "id": "3fb0b870",
   "metadata": {},
   "outputs": [],
   "source": [
    "mean_ = lpd['Credit Score'].mean()\n",
    "\n",
    "std_ = lpd['Credit Score'].std()\n",
    "\n",
    "cut_off =std_*3\n",
    "\n",
    "lower,upper = mean_-std_ , mean_+std_"
   ]
  },
  {
   "cell_type": "code",
   "execution_count": 38,
   "id": "1e50badf",
   "metadata": {},
   "outputs": [],
   "source": [
    "std_method = (lpd['Credit Score']<upper)& (lpd['Credit Score']>lower)"
   ]
  },
  {
   "cell_type": "code",
   "execution_count": 39,
   "id": "b5fb5450",
   "metadata": {},
   "outputs": [],
   "source": [
    "std_method = lpd['Credit Score'][(lpd['Credit Score']<upper)&(lpd['Credit Score']>lower)]"
   ]
  },
  {
   "cell_type": "code",
   "execution_count": 40,
   "id": "aadb6dc2",
   "metadata": {},
   "outputs": [
    {
     "data": {
      "image/png": "[encoded data removed]",
      "text/plain": [
       "<Figure size 432x288 with 1 Axes>"
      ]
     },
     "metadata": {
      "needs_background": "light"
     },
     "output_type": "display_data"
    }
   ],
   "source": [
    "sns.boxplot(std_method,orient = 'v')\n",
    "plt.show()"
   ]
  },
  {
   "cell_type": "code",
   "execution_count": 41,
   "id": "c7c9a1a9",
   "metadata": {},
   "outputs": [],
   "source": [
    "lpd['Credit Score'] = std_method"
   ]
  },
  {
   "cell_type": "code",
   "execution_count": null,
   "id": "01ea903b",
   "metadata": {},
   "outputs": [],
   "source": []
  },
  {
   "cell_type": "code",
   "execution_count": 42,
   "id": "ec5d3958",
   "metadata": {},
   "outputs": [
    {
     "data": {
      "text/plain": [
       "<AxesSubplot:xlabel='Years in current job'>"
      ]
     },
     "execution_count": 42,
     "metadata": {},
     "output_type": "execute_result"
    },
    {
     "data": {
      "image/png": "[encoded data removed]",
      "text/plain": [
       "<Figure size 432x288 with 1 Axes>"
      ]
     },
     "metadata": {
      "needs_background": "light"
     },
     "output_type": "display_data"
    }
   ],
   "source": [
    "sns.boxplot(lpd['Years in current job'],orient = 'v')"
   ]
  },
  {
   "cell_type": "code",
   "execution_count": 43,
   "id": "728a03f5",
   "metadata": {},
   "outputs": [],
   "source": [
    "mean_ = lpd['Years in current job'].mean()\n",
    "\n",
    "std_ = lpd['Years in current job'].std()\n",
    "\n",
    "cut_off =std_*3\n",
    "\n",
    "lower,upper = mean_-std_ , mean_+std_\n",
    "\n",
    "\n",
    "std_method = (lpd['Years in current job']<upper)& (lpd['Years in current job']>lower)\n",
    "std_method = lpd['Years in current job'][(lpd['Years in current job']<upper)&(lpd['Years in current job']>lower)]\n"
   ]
  },
  {
   "cell_type": "code",
   "execution_count": 44,
   "id": "db72f8d4",
   "metadata": {
    "scrolled": false
   },
   "outputs": [
    {
     "data": {
      "image/png": "[encoded data removed]",
      "text/plain": [
       "<Figure size 432x288 with 1 Axes>"
      ]
     },
     "metadata": {
      "needs_background": "light"
     },
     "output_type": "display_data"
    }
   ],
   "source": [
    "sns.boxplot(std_method,orient = 'v')\n",
    "plt.show()"
   ]
  },
  {
   "cell_type": "code",
   "execution_count": 45,
   "id": "d8ea9d59",
   "metadata": {},
   "outputs": [],
   "source": [
    "lpd['Years in current job'] = std_method"
   ]
  },
  {
   "cell_type": "markdown",
   "id": "2b635244",
   "metadata": {},
   "source": []
  },
  {
   "cell_type": "code",
   "execution_count": 46,
   "id": "99be189e",
   "metadata": {},
   "outputs": [
    {
     "data": {
      "text/plain": [
       "<AxesSubplot:xlabel='Annual Income'>"
      ]
     },
     "execution_count": 46,
     "metadata": {},
     "output_type": "execute_result"
    },
    {
     "data": {
      "image/png": "[encoded data removed]",
      "text/plain": [
       "<Figure size 432x288 with 1 Axes>"
      ]
     },
     "metadata": {
      "needs_background": "light"
     },
     "output_type": "display_data"
    }
   ],
   "source": [
    "sns.boxplot(lpd['Annual Income'], orient = 'v')"
   ]
  },
  {
   "cell_type": "code",
   "execution_count": 47,
   "id": "add943e8",
   "metadata": {},
   "outputs": [
    {
     "data": {
      "image/png": "[encoded data removed]",
      "text/plain": [
       "<Figure size 432x288 with 1 Axes>"
      ]
     },
     "metadata": {
      "needs_background": "light"
     },
     "output_type": "display_data"
    }
   ],
   "source": [
    "mean_ = lpd['Annual Income'].mean()\n",
    "\n",
    "std_ = lpd['Annual Income'].std()\n",
    "\n",
    "cut_off =std_*3\n",
    "\n",
    "lower,upper = mean_-std_ , mean_+std_\n",
    "\n",
    "\n",
    "std_method = (lpd['Annual Income']<upper)& (lpd['Annual Income']>lower)\n",
    "std_method = lpd['Annual Income'][(lpd['Annual Income']<upper)&(lpd['Annual Income']>lower)]\n",
    "\n",
    "sns.boxplot(std_method,orient = 'v')\n",
    "plt.show()\n"
   ]
  },
  {
   "cell_type": "code",
   "execution_count": 48,
   "id": "e4cb8ad1",
   "metadata": {},
   "outputs": [],
   "source": [
    "lpd['Annual Income'] = std_method"
   ]
  },
  {
   "cell_type": "markdown",
   "id": "c4c2f892",
   "metadata": {},
   "source": []
  },
  {
   "cell_type": "code",
   "execution_count": 49,
   "id": "d5c444ce",
   "metadata": {},
   "outputs": [
    {
     "data": {
      "image/png": "[encoded data removed]",
      "text/plain": [
       "<Figure size 432x288 with 1 Axes>"
      ]
     },
     "metadata": {
      "needs_background": "light"
     },
     "output_type": "display_data"
    }
   ],
   "source": [
    "outlier_check(lpd,'Monthly Debt')"
   ]
  },
  {
   "cell_type": "code",
   "execution_count": 50,
   "id": "552ffefd",
   "metadata": {},
   "outputs": [
    {
     "data": {
      "image/png": "[encoded data removed]",
      "text/plain": [
       "<Figure size 432x288 with 1 Axes>"
      ]
     },
     "metadata": {
      "needs_background": "light"
     },
     "output_type": "display_data"
    }
   ],
   "source": [
    "mean_ = lpd['Monthly Debt'].mean()\n",
    "\n",
    "std_ = lpd['Monthly Debt'].std()\n",
    "\n",
    "cut_off =std_*3\n",
    "\n",
    "lower,upper = mean_-std_ , mean_+std_\n",
    "\n",
    "\n",
    "std_method = (lpd['Monthly Debt']<upper)& (lpd['Monthly Debt']>lower)\n",
    "std_method = lpd['Monthly Debt'][(lpd['Monthly Debt']<upper)&(lpd['Monthly Debt']>lower)]\n",
    "\n",
    "sns.boxplot(std_method,orient = 'v')\n",
    "plt.show()\n"
   ]
  },
  {
   "cell_type": "code",
   "execution_count": 51,
   "id": "5e37a30b",
   "metadata": {},
   "outputs": [],
   "source": [
    "lpd['Monthly Debt'] = std_method"
   ]
  },
  {
   "cell_type": "code",
   "execution_count": null,
   "id": "7175a7d1",
   "metadata": {},
   "outputs": [],
   "source": []
  },
  {
   "cell_type": "code",
   "execution_count": 52,
   "id": "2ca33048",
   "metadata": {},
   "outputs": [
    {
     "data": {
      "image/png": "[encoded data removed]",
      "text/plain": [
       "<Figure size 432x288 with 1 Axes>"
      ]
     },
     "metadata": {
      "needs_background": "light"
     },
     "output_type": "display_data"
    }
   ],
   "source": [
    "outlier_check(lpd,'Years of Credit History')"
   ]
  },
  {
   "cell_type": "code",
   "execution_count": 53,
   "id": "63c9b599",
   "metadata": {
    "scrolled": true
   },
   "outputs": [
    {
     "data": {
      "image/png": "[encoded data removed]",
      "text/plain": [
       "<Figure size 432x288 with 1 Axes>"
      ]
     },
     "metadata": {
      "needs_background": "light"
     },
     "output_type": "display_data"
    }
   ],
   "source": [
    "outlier_check(lpd,'Months since last delinquent')"
   ]
  },
  {
   "cell_type": "code",
   "execution_count": null,
   "id": "6b92110a",
   "metadata": {},
   "outputs": [],
   "source": []
  },
  {
   "cell_type": "code",
   "execution_count": 54,
   "id": "bf2bb356",
   "metadata": {},
   "outputs": [
    {
     "data": {
      "image/png": "[encoded data removed]",
      "text/plain": [
       "<Figure size 432x288 with 1 Axes>"
      ]
     },
     "metadata": {
      "needs_background": "light"
     },
     "output_type": "display_data"
    }
   ],
   "source": [
    "outlier_check(lpd,'Number of Open Accounts')"
   ]
  },
  {
   "cell_type": "code",
   "execution_count": 55,
   "id": "b76b2c5f",
   "metadata": {},
   "outputs": [
    {
     "data": {
      "image/png": "[encoded data removed]",
      "text/plain": [
       "<Figure size 432x288 with 1 Axes>"
      ]
     },
     "metadata": {
      "needs_background": "light"
     },
     "output_type": "display_data"
    }
   ],
   "source": [
    "mean_ = lpd['Number of Open Accounts'].mean()\n",
    "\n",
    "std_ = lpd['Number of Open Accounts'].std()\n",
    "\n",
    "cut_off =std_*3\n",
    "\n",
    "lower,upper = mean_-std_ , mean_+std_\n",
    "\n",
    "\n",
    "std_method = (lpd['Number of Open Accounts']<upper)& (lpd['Number of Open Accounts']>lower)\n",
    "std_method = lpd['Number of Open Accounts'][(lpd['Number of Open Accounts']<upper)&(lpd['Number of Open Accounts']>lower)]\n",
    "\n",
    "sns.boxplot(std_method,orient = 'v')\n",
    "plt.show()\n"
   ]
  },
  {
   "cell_type": "code",
   "execution_count": null,
   "id": "0c23ff3d",
   "metadata": {},
   "outputs": [],
   "source": []
  },
  {
   "cell_type": "code",
   "execution_count": null,
   "id": "c6d49517",
   "metadata": {},
   "outputs": [],
   "source": []
  },
  {
   "cell_type": "code",
   "execution_count": null,
   "id": "3e2debfa",
   "metadata": {},
   "outputs": [],
   "source": []
  },
  {
   "cell_type": "code",
   "execution_count": 56,
   "id": "fb6a5fe9",
   "metadata": {
    "scrolled": true
   },
   "outputs": [
    {
     "data": {
      "image/png": "[encoded data removed]",
      "text/plain": [
       "<Figure size 432x288 with 1 Axes>"
      ]
     },
     "metadata": {
      "needs_background": "light"
     },
     "output_type": "display_data"
    }
   ],
   "source": [
    "outlier_check(lpd,'Current Credit Balance')"
   ]
  },
  {
   "cell_type": "code",
   "execution_count": 57,
   "id": "881aa738",
   "metadata": {},
   "outputs": [
    {
     "data": {
      "image/png": "[encoded data removed]",
      "text/plain": [
       "<Figure size 432x288 with 1 Axes>"
      ]
     },
     "metadata": {
      "needs_background": "light"
     },
     "output_type": "display_data"
    }
   ],
   "source": [
    "std_ = lpd['Current Credit Balance'].std()\n",
    "\n",
    "cut_off =std_*3\n",
    "\n",
    "lower,upper = mean_-std_ , mean_+std_\n",
    "\n",
    "\n",
    "std_method = (lpd['Current Credit Balance']<upper)& (lpd['Current Credit Balance']>lower)\n",
    "std_method = lpd['Current Credit Balance'][(lpd['Current Credit Balance']<upper)&(lpd['Current Credit Balance']>lower)]\n",
    "\n",
    "sns.boxplot(std_method,orient = 'v')\n",
    "plt.show()"
   ]
  },
  {
   "cell_type": "code",
   "execution_count": 58,
   "id": "de0ffb2e",
   "metadata": {},
   "outputs": [],
   "source": [
    "lpd['Current Credit Balance'] = std_method"
   ]
  },
  {
   "cell_type": "code",
   "execution_count": 59,
   "id": "6ee73e02",
   "metadata": {},
   "outputs": [
    {
     "data": {
      "image/png": "[encoded data removed]",
      "text/plain": [
       "<Figure size 432x288 with 1 Axes>"
      ]
     },
     "metadata": {
      "needs_background": "light"
     },
     "output_type": "display_data"
    }
   ],
   "source": [
    "outlier_check(lpd,'Maximum Open Credit')"
   ]
  },
  {
   "cell_type": "code",
   "execution_count": 60,
   "id": "d0d58218",
   "metadata": {
    "scrolled": true
   },
   "outputs": [
    {
     "data": {
      "image/png": "[encoded data removed]",
      "text/plain": [
       "<Figure size 432x288 with 1 Axes>"
      ]
     },
     "metadata": {
      "needs_background": "light"
     },
     "output_type": "display_data"
    }
   ],
   "source": [
    "std_ = lpd['Maximum Open Credit'].std()\n",
    "\n",
    "cut_off =std_*3\n",
    "\n",
    "lower,upper = mean_-std_ , mean_+std_\n",
    "\n",
    "\n",
    "std_method = (lpd['Maximum Open Credit']<upper)& (lpd['Maximum Open Credit']>lower)\n",
    "std_method = lpd['Maximum Open Credit'][(lpd['Maximum Open Credit']<upper)&(lpd['Maximum Open Credit']>lower)]\n",
    "\n",
    "sns.boxplot(std_method,orient = 'v')\n",
    "plt.show()"
   ]
  },
  {
   "cell_type": "code",
   "execution_count": 61,
   "id": "98a4e694",
   "metadata": {},
   "outputs": [],
   "source": [
    "lpd['Maximum Open Credit'] = std_method"
   ]
  },
  {
   "cell_type": "code",
   "execution_count": 62,
   "id": "cf8be47a",
   "metadata": {},
   "outputs": [
    {
     "data": {
      "image/png": "[encoded data removed]",
      "text/plain": [
       "<Figure size 432x288 with 1 Axes>"
      ]
     },
     "metadata": {
      "needs_background": "light"
     },
     "output_type": "display_data"
    }
   ],
   "source": [
    "outlier_check(lpd,'Number of Credit Problems')"
   ]
  },
  {
   "cell_type": "code",
   "execution_count": 63,
   "id": "a69695cd",
   "metadata": {},
   "outputs": [
    {
     "data": {
      "image/png": "[encoded data removed]",
      "text/plain": [
       "<Figure size 432x288 with 1 Axes>"
      ]
     },
     "metadata": {
      "needs_background": "light"
     },
     "output_type": "display_data"
    }
   ],
   "source": [
    "std_ = lpd['Number of Credit Problems'].std()\n",
    "\n",
    "cut_off =std_*3\n",
    "\n",
    "lower,upper = mean_-std_ , mean_+std_\n",
    "\n",
    "\n",
    "std_method = (lpd['Number of Credit Problems']<upper)& (lpd['Number of Credit Problems']>lower)\n",
    "std_method = lpd['Number of Credit Problems'][(lpd['Number of Credit Problems']<upper)&(lpd['Number of Credit Problems']>lower)]\n",
    "\n",
    "sns.boxplot(std_method,orient = 'v')\n",
    "plt.show()"
   ]
  },
  {
   "cell_type": "code",
   "execution_count": 64,
   "id": "98676a6c",
   "metadata": {},
   "outputs": [],
   "source": [
    "lpd['Number of Credit Problems']=std_method"
   ]
  },
  {
   "cell_type": "code",
   "execution_count": 65,
   "id": "f6735b27",
   "metadata": {},
   "outputs": [
    {
     "data": {
      "text/html": [
       "<div>\n",
       "<style scoped>\n",
       "    .dataframe tbody tr th:only-of-type {\n",
       "        vertical-align: middle;\n",
       "    }\n",
       "\n",
       "    .dataframe tbody tr th {\n",
       "        vertical-align: top;\n",
       "    }\n",
       "\n",
       "    .dataframe thead th {\n",
       "        text-align: right;\n",
       "    }\n",
       "</style>\n",
       "<table border=\"1\" class=\"dataframe\">\n",
       "  <thead>\n",
       "    <tr style=\"text-align: right;\">\n",
       "      <th></th>\n",
       "      <th>Loan Status</th>\n",
       "      <th>Current Loan Amount</th>\n",
       "      <th>Term</th>\n",
       "      <th>Credit Score</th>\n",
       "      <th>Years in current job</th>\n",
       "      <th>Annual Income</th>\n",
       "      <th>Monthly Debt</th>\n",
       "      <th>Years of Credit History</th>\n",
       "      <th>Months since last delinquent</th>\n",
       "      <th>Number of Open Accounts</th>\n",
       "      <th>Number of Credit Problems</th>\n",
       "      <th>Current Credit Balance</th>\n",
       "      <th>Maximum Open Credit</th>\n",
       "    </tr>\n",
       "  </thead>\n",
       "  <tbody>\n",
       "    <tr>\n",
       "      <th>0</th>\n",
       "      <td>Loan Refused</td>\n",
       "      <td>12232.0</td>\n",
       "      <td>Short Term</td>\n",
       "      <td>NaN</td>\n",
       "      <td>NaN</td>\n",
       "      <td>46643.0</td>\n",
       "      <td>777.39</td>\n",
       "      <td>18.0</td>\n",
       "      <td>10.0</td>\n",
       "      <td>12</td>\n",
       "      <td>NaN</td>\n",
       "      <td>6762.0</td>\n",
       "      <td>7946.0</td>\n",
       "    </tr>\n",
       "    <tr>\n",
       "      <th>1</th>\n",
       "      <td>Loan Refused</td>\n",
       "      <td>25014.0</td>\n",
       "      <td>Long Term</td>\n",
       "      <td>NaN</td>\n",
       "      <td>NaN</td>\n",
       "      <td>81099.0</td>\n",
       "      <td>892.09</td>\n",
       "      <td>26.7</td>\n",
       "      <td>NaN</td>\n",
       "      <td>14</td>\n",
       "      <td>NaN</td>\n",
       "      <td>NaN</td>\n",
       "      <td>77961.0</td>\n",
       "    </tr>\n",
       "    <tr>\n",
       "      <th>2</th>\n",
       "      <td>Loan Refused</td>\n",
       "      <td>16117.0</td>\n",
       "      <td>Short Term</td>\n",
       "      <td>NaN</td>\n",
       "      <td>9.0</td>\n",
       "      <td>60438.0</td>\n",
       "      <td>1244.02</td>\n",
       "      <td>16.7</td>\n",
       "      <td>32.0</td>\n",
       "      <td>11</td>\n",
       "      <td>NaN</td>\n",
       "      <td>11275.0</td>\n",
       "      <td>14815.0</td>\n",
       "    </tr>\n",
       "    <tr>\n",
       "      <th>3</th>\n",
       "      <td>Loan Refused</td>\n",
       "      <td>11716.0</td>\n",
       "      <td>Short Term</td>\n",
       "      <td>NaN</td>\n",
       "      <td>3.0</td>\n",
       "      <td>34171.0</td>\n",
       "      <td>990.94</td>\n",
       "      <td>10.0</td>\n",
       "      <td>NaN</td>\n",
       "      <td>21</td>\n",
       "      <td>NaN</td>\n",
       "      <td>7009.0</td>\n",
       "      <td>43533.0</td>\n",
       "    </tr>\n",
       "    <tr>\n",
       "      <th>4</th>\n",
       "      <td>Loan Refused</td>\n",
       "      <td>9789.0</td>\n",
       "      <td>Long Term</td>\n",
       "      <td>NaN</td>\n",
       "      <td>NaN</td>\n",
       "      <td>47003.0</td>\n",
       "      <td>503.71</td>\n",
       "      <td>16.7</td>\n",
       "      <td>25.0</td>\n",
       "      <td>13</td>\n",
       "      <td>NaN</td>\n",
       "      <td>16913.0</td>\n",
       "      <td>19553.0</td>\n",
       "    </tr>\n",
       "  </tbody>\n",
       "</table>\n",
       "</div>"
      ],
      "text/plain": [
       "    Loan Status  Current Loan Amount        Term  Credit Score  \\\n",
       "0  Loan Refused              12232.0  Short Term           NaN   \n",
       "1  Loan Refused              25014.0   Long Term           NaN   \n",
       "2  Loan Refused              16117.0  Short Term           NaN   \n",
       "3  Loan Refused              11716.0  Short Term           NaN   \n",
       "4  Loan Refused               9789.0   Long Term           NaN   \n",
       "\n",
       "   Years in current job  Annual Income  Monthly Debt  Years of Credit History  \\\n",
       "0                   NaN        46643.0        777.39                     18.0   \n",
       "1                   NaN        81099.0        892.09                     26.7   \n",
       "2                   9.0        60438.0       1244.02                     16.7   \n",
       "3                   3.0        34171.0        990.94                     10.0   \n",
       "4                   NaN        47003.0        503.71                     16.7   \n",
       "\n",
       "   Months since last delinquent  Number of Open Accounts  \\\n",
       "0                          10.0                       12   \n",
       "1                           NaN                       14   \n",
       "2                          32.0                       11   \n",
       "3                           NaN                       21   \n",
       "4                          25.0                       13   \n",
       "\n",
       "   Number of Credit Problems  Current Credit Balance  Maximum Open Credit  \n",
       "0                        NaN                  6762.0               7946.0  \n",
       "1                        NaN                     NaN              77961.0  \n",
       "2                        NaN                 11275.0              14815.0  \n",
       "3                        NaN                  7009.0              43533.0  \n",
       "4                        NaN                 16913.0              19553.0  "
      ]
     },
     "execution_count": 65,
     "metadata": {},
     "output_type": "execute_result"
    }
   ],
   "source": [
    "lpd.head()"
   ]
  },
  {
   "cell_type": "code",
   "execution_count": 66,
   "id": "4785a268",
   "metadata": {},
   "outputs": [
    {
     "data": {
      "text/plain": [
       "Loan Status                          0\n",
       "Current Loan Amount              12738\n",
       "Term                                 0\n",
       "Credit Score                     26382\n",
       "Years in current job             65632\n",
       "Annual Income                    29011\n",
       "Monthly Debt                     27204\n",
       "Years of Credit History              0\n",
       "Months since last delinquent     59003\n",
       "Number of Open Accounts              0\n",
       "Number of Credit Problems       111105\n",
       "Current Credit Balance           26713\n",
       "Maximum Open Credit                371\n",
       "dtype: int64"
      ]
     },
     "execution_count": 66,
     "metadata": {},
     "output_type": "execute_result"
    }
   ],
   "source": [
    "lpd.isnull().sum()"
   ]
  },
  {
   "cell_type": "markdown",
   "id": "28d156d1",
   "metadata": {},
   "source": [
    "### Checking for variables with missing data less than 30%\n",
    "In this work only columns with 30% missing values will be tolerated."
   ]
  },
  {
   "cell_type": "code",
   "execution_count": 67,
   "id": "716785d4",
   "metadata": {},
   "outputs": [
    {
     "data": {
      "text/plain": [
       "Loan Status                      True\n",
       "Current Loan Amount              True\n",
       "Term                             True\n",
       "Credit Score                     True\n",
       "Years in current job            False\n",
       "Annual Income                    True\n",
       "Monthly Debt                     True\n",
       "Years of Credit History          True\n",
       "Months since last delinquent    False\n",
       "Number of Open Accounts          True\n",
       "Number of Credit Problems       False\n",
       "Current Credit Balance           True\n",
       "Maximum Open Credit              True\n",
       "dtype: bool"
      ]
     },
     "execution_count": 67,
     "metadata": {},
     "output_type": "execute_result"
    }
   ],
   "source": [
    "lpd_mask = lpd.isnull().sum()/len(lpd)<.3\n",
    "lpd_mask"
   ]
  },
  {
   "cell_type": "markdown",
   "id": "dfbe30c3",
   "metadata": {},
   "source": [
    "### Removing columns with more than 30% from the data\n",
    "'Months since last deliquent' and 'Years in current job' will be removed from the dataset since it has more than 30% missing values."
   ]
  },
  {
   "cell_type": "code",
   "execution_count": 68,
   "id": "e51f2364",
   "metadata": {},
   "outputs": [],
   "source": [
    "lpd = lpd.loc[:,lpd_mask]"
   ]
  },
  {
   "cell_type": "code",
   "execution_count": 69,
   "id": "07697ffb",
   "metadata": {},
   "outputs": [
    {
     "name": "stdout",
     "output_type": "stream",
     "text": [
      "Loan Status\n",
      "Current Loan Amount\n",
      "Term\n",
      "Credit Score\n",
      "Annual Income\n",
      "Monthly Debt\n",
      "Years of Credit History\n",
      "Number of Open Accounts\n",
      "Current Credit Balance\n",
      "Maximum Open Credit\n"
     ]
    }
   ],
   "source": [
    "for col in lpd.columns:\n",
    "    print(col)"
   ]
  },
  {
   "cell_type": "code",
   "execution_count": 70,
   "id": "b0a5bc34",
   "metadata": {
    "scrolled": false
   },
   "outputs": [
    {
     "name": "stdout",
     "output_type": "stream",
     "text": [
      "<class 'pandas.core.frame.DataFrame'>\n",
      "RangeIndex: 111107 entries, 0 to 111106\n",
      "Data columns (total 10 columns):\n",
      " #   Column                   Non-Null Count   Dtype  \n",
      "---  ------                   --------------   -----  \n",
      " 0   Loan Status              111107 non-null  object \n",
      " 1   Current Loan Amount      98369 non-null   float64\n",
      " 2   Term                     111107 non-null  object \n",
      " 3   Credit Score             84725 non-null   float64\n",
      " 4   Annual Income            82096 non-null   float64\n",
      " 5   Monthly Debt             83903 non-null   float64\n",
      " 6   Years of Credit History  111107 non-null  float64\n",
      " 7   Number of Open Accounts  111107 non-null  int64  \n",
      " 8   Current Credit Balance   84394 non-null   float64\n",
      " 9   Maximum Open Credit      110736 non-null  float64\n",
      "dtypes: float64(7), int64(1), object(2)\n",
      "memory usage: 8.5+ MB\n"
     ]
    }
   ],
   "source": [
    "lpd.info()"
   ]
  },
  {
   "cell_type": "code",
   "execution_count": 71,
   "id": "2b46cbea",
   "metadata": {},
   "outputs": [
    {
     "data": {
      "text/plain": [
       "Loan Status                    0\n",
       "Current Loan Amount        12738\n",
       "Term                           0\n",
       "Credit Score               26382\n",
       "Annual Income              29011\n",
       "Monthly Debt               27204\n",
       "Years of Credit History        0\n",
       "Number of Open Accounts        0\n",
       "Current Credit Balance     26713\n",
       "Maximum Open Credit          371\n",
       "dtype: int64"
      ]
     },
     "execution_count": 71,
     "metadata": {},
     "output_type": "execute_result"
    }
   ],
   "source": [
    "lpd.isnull().sum()"
   ]
  },
  {
   "cell_type": "markdown",
   "id": "3ab805a0",
   "metadata": {},
   "source": [
    "There are six more columns with missing values in the above information. In this work, these missing values will be replaced with the mean of the entire column where they belong."
   ]
  },
  {
   "cell_type": "code",
   "execution_count": 72,
   "id": "a3b191e4",
   "metadata": {},
   "outputs": [],
   "source": [
    "lpd['Current Loan Amount'].fillna(lpd['Current Loan Amount'].mean(), inplace = True)\n",
    "lpd['Credit Score'].fillna(lpd['Credit Score'].mean(), inplace = True)\n",
    "lpd['Annual Income'].fillna(lpd['Annual Income'].mean(), inplace = True)\n",
    "lpd['Monthly Debt'].fillna(lpd['Monthly Debt'].mean(), inplace = True)\n",
    "lpd['Current Credit Balance'].fillna(lpd['Current Credit Balance'].mean(), inplace = True)\n",
    "lpd['Maximum Open Credit'].fillna(lpd['Maximum Open Credit'].mean(), inplace = True)"
   ]
  },
  {
   "cell_type": "code",
   "execution_count": 73,
   "id": "5e5411d0",
   "metadata": {},
   "outputs": [
    {
     "data": {
      "text/plain": [
       "Loan Status                0\n",
       "Current Loan Amount        0\n",
       "Term                       0\n",
       "Credit Score               0\n",
       "Annual Income              0\n",
       "Monthly Debt               0\n",
       "Years of Credit History    0\n",
       "Number of Open Accounts    0\n",
       "Current Credit Balance     0\n",
       "Maximum Open Credit        0\n",
       "dtype: int64"
      ]
     },
     "execution_count": 73,
     "metadata": {},
     "output_type": "execute_result"
    }
   ],
   "source": [
    "lpd.isnull().sum()"
   ]
  },
  {
   "cell_type": "code",
   "execution_count": 74,
   "id": "660d31fb",
   "metadata": {},
   "outputs": [],
   "source": [
    "def dist_plot(lpd,feature_name):\n",
    "    \n",
    "\n",
    "    sns.distplot(lpd[feature_name])\n",
    "    plt.show()"
   ]
  },
  {
   "cell_type": "code",
   "execution_count": 75,
   "id": "61aa6cad",
   "metadata": {},
   "outputs": [
    {
     "data": {
      "image/png": "[encoded data removed]",
      "text/plain": [
       "<Figure size 432x288 with 1 Axes>"
      ]
     },
     "metadata": {
      "needs_background": "light"
     },
     "output_type": "display_data"
    }
   ],
   "source": [
    "dist_plot(lpd,'Current Loan Amount')"
   ]
  },
  {
   "cell_type": "code",
   "execution_count": 76,
   "id": "9a65fed3",
   "metadata": {},
   "outputs": [
    {
     "data": {
      "image/png": "[encoded data removed]",
      "text/plain": [
       "<Figure size 432x288 with 1 Axes>"
      ]
     },
     "metadata": {
      "needs_background": "light"
     },
     "output_type": "display_data"
    }
   ],
   "source": [
    "dist_plot(lpd,'Credit Score')"
   ]
  },
  {
   "cell_type": "code",
   "execution_count": 77,
   "id": "c71a52ae",
   "metadata": {},
   "outputs": [
    {
     "data": {
      "image/png": "[encoded data removed]",
      "text/plain": [
       "<Figure size 432x288 with 1 Axes>"
      ]
     },
     "metadata": {
      "needs_background": "light"
     },
     "output_type": "display_data"
    }
   ],
   "source": [
    "dist_plot(lpd,'Annual Income')"
   ]
  },
  {
   "cell_type": "code",
   "execution_count": 78,
   "id": "072bf168",
   "metadata": {},
   "outputs": [
    {
     "data": {
      "image/png": "[encoded data removed]",
      "text/plain": [
       "<Figure size 432x288 with 1 Axes>"
      ]
     },
     "metadata": {
      "needs_background": "light"
     },
     "output_type": "display_data"
    }
   ],
   "source": [
    "dist_plot(lpd,'Monthly Debt')"
   ]
  },
  {
   "cell_type": "code",
   "execution_count": 79,
   "id": "9035b7f4",
   "metadata": {},
   "outputs": [
    {
     "data": {
      "image/png": "[encoded data removed]",
      "text/plain": [
       "<Figure size 432x288 with 1 Axes>"
      ]
     },
     "metadata": {
      "needs_background": "light"
     },
     "output_type": "display_data"
    }
   ],
   "source": [
    "dist_plot(lpd,'Years of Credit History')"
   ]
  },
  {
   "cell_type": "code",
   "execution_count": 80,
   "id": "5ad8db15",
   "metadata": {},
   "outputs": [
    {
     "data": {
      "image/png": "[encoded data removed]",
      "text/plain": [
       "<Figure size 432x288 with 1 Axes>"
      ]
     },
     "metadata": {
      "needs_background": "light"
     },
     "output_type": "display_data"
    }
   ],
   "source": [
    "dist_plot(lpd,'Number of Open Accounts')"
   ]
  },
  {
   "cell_type": "code",
   "execution_count": 81,
   "id": "03bf8285",
   "metadata": {},
   "outputs": [
    {
     "data": {
      "image/png": "[encoded data removed]",
      "text/plain": [
       "<Figure size 432x288 with 1 Axes>"
      ]
     },
     "metadata": {
      "needs_background": "light"
     },
     "output_type": "display_data"
    }
   ],
   "source": [
    "dist_plot(lpd,'Current Credit Balance')"
   ]
  },
  {
   "cell_type": "code",
   "execution_count": 82,
   "id": "18413ba2",
   "metadata": {},
   "outputs": [
    {
     "data": {
      "image/png": "[encoded data removed]",
      "text/plain": [
       "<Figure size 432x288 with 1 Axes>"
      ]
     },
     "metadata": {
      "needs_background": "light"
     },
     "output_type": "display_data"
    }
   ],
   "source": [
    "dist_plot(lpd,'Maximum Open Credit')"
   ]
  },
  {
   "cell_type": "markdown",
   "id": "418282fd",
   "metadata": {},
   "source": [
    "###  Encoding categorical variable\n",
    "Machine learning models require all input and output variables to be numeric. This means that if your data contains categorical data, you must encode it to numbers before you can fit and evaluate a model.\n",
    "The performance of a machine learning model not only depends on the model and the hyperparameters but also on how we process and feed different types of variables to the model. We need to convert these categorical variables to numbers such that the model is able to understand and extract valuable information."
   ]
  },
  {
   "cell_type": "code",
   "execution_count": 83,
   "id": "3aa94a65",
   "metadata": {},
   "outputs": [],
   "source": [
    "term_dummies = pd.get_dummies(lpd.Term)\n",
    "lpd = pd.concat([lpd,term_dummies],axis = 1)"
   ]
  },
  {
   "cell_type": "code",
   "execution_count": 84,
   "id": "748e85e5",
   "metadata": {},
   "outputs": [
    {
     "data": {
      "text/html": [
       "<div>\n",
       "<style scoped>\n",
       "    .dataframe tbody tr th:only-of-type {\n",
       "        vertical-align: middle;\n",
       "    }\n",
       "\n",
       "    .dataframe tbody tr th {\n",
       "        vertical-align: top;\n",
       "    }\n",
       "\n",
       "    .dataframe thead th {\n",
       "        text-align: right;\n",
       "    }\n",
       "</style>\n",
       "<table border=\"1\" class=\"dataframe\">\n",
       "  <thead>\n",
       "    <tr style=\"text-align: right;\">\n",
       "      <th></th>\n",
       "      <th>Loan Status</th>\n",
       "      <th>Current Loan Amount</th>\n",
       "      <th>Term</th>\n",
       "      <th>Credit Score</th>\n",
       "      <th>Annual Income</th>\n",
       "      <th>Monthly Debt</th>\n",
       "      <th>Years of Credit History</th>\n",
       "      <th>Number of Open Accounts</th>\n",
       "      <th>Current Credit Balance</th>\n",
       "      <th>Maximum Open Credit</th>\n",
       "      <th>Long Term</th>\n",
       "      <th>Short Term</th>\n",
       "    </tr>\n",
       "  </thead>\n",
       "  <tbody>\n",
       "    <tr>\n",
       "      <th>0</th>\n",
       "      <td>Loan Refused</td>\n",
       "      <td>12232.0</td>\n",
       "      <td>Short Term</td>\n",
       "      <td>716.612735</td>\n",
       "      <td>46643.0</td>\n",
       "      <td>777.39</td>\n",
       "      <td>18.0</td>\n",
       "      <td>12</td>\n",
       "      <td>6762.000000</td>\n",
       "      <td>7946.0</td>\n",
       "      <td>0</td>\n",
       "      <td>1</td>\n",
       "    </tr>\n",
       "    <tr>\n",
       "      <th>1</th>\n",
       "      <td>Loan Refused</td>\n",
       "      <td>25014.0</td>\n",
       "      <td>Long Term</td>\n",
       "      <td>716.612735</td>\n",
       "      <td>81099.0</td>\n",
       "      <td>892.09</td>\n",
       "      <td>26.7</td>\n",
       "      <td>14</td>\n",
       "      <td>8927.561687</td>\n",
       "      <td>77961.0</td>\n",
       "      <td>1</td>\n",
       "      <td>0</td>\n",
       "    </tr>\n",
       "    <tr>\n",
       "      <th>2</th>\n",
       "      <td>Loan Refused</td>\n",
       "      <td>16117.0</td>\n",
       "      <td>Short Term</td>\n",
       "      <td>716.612735</td>\n",
       "      <td>60438.0</td>\n",
       "      <td>1244.02</td>\n",
       "      <td>16.7</td>\n",
       "      <td>11</td>\n",
       "      <td>11275.000000</td>\n",
       "      <td>14815.0</td>\n",
       "      <td>0</td>\n",
       "      <td>1</td>\n",
       "    </tr>\n",
       "    <tr>\n",
       "      <th>3</th>\n",
       "      <td>Loan Refused</td>\n",
       "      <td>11716.0</td>\n",
       "      <td>Short Term</td>\n",
       "      <td>716.612735</td>\n",
       "      <td>34171.0</td>\n",
       "      <td>990.94</td>\n",
       "      <td>10.0</td>\n",
       "      <td>21</td>\n",
       "      <td>7009.000000</td>\n",
       "      <td>43533.0</td>\n",
       "      <td>0</td>\n",
       "      <td>1</td>\n",
       "    </tr>\n",
       "    <tr>\n",
       "      <th>4</th>\n",
       "      <td>Loan Refused</td>\n",
       "      <td>9789.0</td>\n",
       "      <td>Long Term</td>\n",
       "      <td>716.612735</td>\n",
       "      <td>47003.0</td>\n",
       "      <td>503.71</td>\n",
       "      <td>16.7</td>\n",
       "      <td>13</td>\n",
       "      <td>16913.000000</td>\n",
       "      <td>19553.0</td>\n",
       "      <td>1</td>\n",
       "      <td>0</td>\n",
       "    </tr>\n",
       "    <tr>\n",
       "      <th>...</th>\n",
       "      <td>...</td>\n",
       "      <td>...</td>\n",
       "      <td>...</td>\n",
       "      <td>...</td>\n",
       "      <td>...</td>\n",
       "      <td>...</td>\n",
       "      <td>...</td>\n",
       "      <td>...</td>\n",
       "      <td>...</td>\n",
       "      <td>...</td>\n",
       "      <td>...</td>\n",
       "      <td>...</td>\n",
       "    </tr>\n",
       "    <tr>\n",
       "      <th>111102</th>\n",
       "      <td>Loan Given</td>\n",
       "      <td>15654.0</td>\n",
       "      <td>Long Term</td>\n",
       "      <td>686.000000</td>\n",
       "      <td>43050.0</td>\n",
       "      <td>889.69</td>\n",
       "      <td>14.1</td>\n",
       "      <td>18</td>\n",
       "      <td>14730.000000</td>\n",
       "      <td>29757.0</td>\n",
       "      <td>1</td>\n",
       "      <td>0</td>\n",
       "    </tr>\n",
       "    <tr>\n",
       "      <th>111103</th>\n",
       "      <td>Loan Given</td>\n",
       "      <td>15237.0</td>\n",
       "      <td>Short Term</td>\n",
       "      <td>706.000000</td>\n",
       "      <td>60948.0</td>\n",
       "      <td>700.90</td>\n",
       "      <td>15.9</td>\n",
       "      <td>11</td>\n",
       "      <td>17733.000000</td>\n",
       "      <td>23060.0</td>\n",
       "      <td>0</td>\n",
       "      <td>1</td>\n",
       "    </tr>\n",
       "    <tr>\n",
       "      <th>111104</th>\n",
       "      <td>Loan Given</td>\n",
       "      <td>10413.0</td>\n",
       "      <td>Short Term</td>\n",
       "      <td>719.000000</td>\n",
       "      <td>66945.0</td>\n",
       "      <td>1210.59</td>\n",
       "      <td>8.7</td>\n",
       "      <td>11</td>\n",
       "      <td>5205.000000</td>\n",
       "      <td>6348.0</td>\n",
       "      <td>0</td>\n",
       "      <td>1</td>\n",
       "    </tr>\n",
       "    <tr>\n",
       "      <th>111105</th>\n",
       "      <td>Loan Given</td>\n",
       "      <td>34447.0</td>\n",
       "      <td>Short Term</td>\n",
       "      <td>626.000000</td>\n",
       "      <td>78736.0</td>\n",
       "      <td>1476.30</td>\n",
       "      <td>30.4</td>\n",
       "      <td>12</td>\n",
       "      <td>8927.561687</td>\n",
       "      <td>37580.0</td>\n",
       "      <td>0</td>\n",
       "      <td>1</td>\n",
       "    </tr>\n",
       "    <tr>\n",
       "      <th>111106</th>\n",
       "      <td>Loan Given</td>\n",
       "      <td>9209.0</td>\n",
       "      <td>Long Term</td>\n",
       "      <td>708.000000</td>\n",
       "      <td>123454.0</td>\n",
       "      <td>668.71</td>\n",
       "      <td>20.1</td>\n",
       "      <td>8</td>\n",
       "      <td>6835.000000</td>\n",
       "      <td>9261.0</td>\n",
       "      <td>1</td>\n",
       "      <td>0</td>\n",
       "    </tr>\n",
       "  </tbody>\n",
       "</table>\n",
       "<p>111107 rows × 12 columns</p>\n",
       "</div>"
      ],
      "text/plain": [
       "         Loan Status  Current Loan Amount        Term  Credit Score  \\\n",
       "0       Loan Refused              12232.0  Short Term    716.612735   \n",
       "1       Loan Refused              25014.0   Long Term    716.612735   \n",
       "2       Loan Refused              16117.0  Short Term    716.612735   \n",
       "3       Loan Refused              11716.0  Short Term    716.612735   \n",
       "4       Loan Refused               9789.0   Long Term    716.612735   \n",
       "...              ...                  ...         ...           ...   \n",
       "111102    Loan Given              15654.0   Long Term    686.000000   \n",
       "111103    Loan Given              15237.0  Short Term    706.000000   \n",
       "111104    Loan Given              10413.0  Short Term    719.000000   \n",
       "111105    Loan Given              34447.0  Short Term    626.000000   \n",
       "111106    Loan Given               9209.0   Long Term    708.000000   \n",
       "\n",
       "        Annual Income  Monthly Debt  Years of Credit History  \\\n",
       "0             46643.0        777.39                     18.0   \n",
       "1             81099.0        892.09                     26.7   \n",
       "2             60438.0       1244.02                     16.7   \n",
       "3             34171.0        990.94                     10.0   \n",
       "4             47003.0        503.71                     16.7   \n",
       "...               ...           ...                      ...   \n",
       "111102        43050.0        889.69                     14.1   \n",
       "111103        60948.0        700.90                     15.9   \n",
       "111104        66945.0       1210.59                      8.7   \n",
       "111105        78736.0       1476.30                     30.4   \n",
       "111106       123454.0        668.71                     20.1   \n",
       "\n",
       "        Number of Open Accounts  Current Credit Balance  Maximum Open Credit  \\\n",
       "0                            12             6762.000000               7946.0   \n",
       "1                            14             8927.561687              77961.0   \n",
       "2                            11            11275.000000              14815.0   \n",
       "3                            21             7009.000000              43533.0   \n",
       "4                            13            16913.000000              19553.0   \n",
       "...                         ...                     ...                  ...   \n",
       "111102                       18            14730.000000              29757.0   \n",
       "111103                       11            17733.000000              23060.0   \n",
       "111104                       11             5205.000000               6348.0   \n",
       "111105                       12             8927.561687              37580.0   \n",
       "111106                        8             6835.000000               9261.0   \n",
       "\n",
       "        Long Term  Short Term  \n",
       "0               0           1  \n",
       "1               1           0  \n",
       "2               0           1  \n",
       "3               0           1  \n",
       "4               1           0  \n",
       "...           ...         ...  \n",
       "111102          1           0  \n",
       "111103          0           1  \n",
       "111104          0           1  \n",
       "111105          0           1  \n",
       "111106          1           0  \n",
       "\n",
       "[111107 rows x 12 columns]"
      ]
     },
     "execution_count": 84,
     "metadata": {},
     "output_type": "execute_result"
    }
   ],
   "source": [
    "lpd"
   ]
  },
  {
   "cell_type": "code",
   "execution_count": 85,
   "id": "a8389039",
   "metadata": {},
   "outputs": [],
   "source": [
    "column_drop(lpd,'Term')"
   ]
  },
  {
   "cell_type": "code",
   "execution_count": 86,
   "id": "f87b07c8",
   "metadata": {},
   "outputs": [
    {
     "data": {
      "text/html": [
       "<div>\n",
       "<style scoped>\n",
       "    .dataframe tbody tr th:only-of-type {\n",
       "        vertical-align: middle;\n",
       "    }\n",
       "\n",
       "    .dataframe tbody tr th {\n",
       "        vertical-align: top;\n",
       "    }\n",
       "\n",
       "    .dataframe thead th {\n",
       "        text-align: right;\n",
       "    }\n",
       "</style>\n",
       "<table border=\"1\" class=\"dataframe\">\n",
       "  <thead>\n",
       "    <tr style=\"text-align: right;\">\n",
       "      <th></th>\n",
       "      <th>Loan Status</th>\n",
       "      <th>Current Loan Amount</th>\n",
       "      <th>Credit Score</th>\n",
       "      <th>Annual Income</th>\n",
       "      <th>Monthly Debt</th>\n",
       "      <th>Years of Credit History</th>\n",
       "      <th>Number of Open Accounts</th>\n",
       "      <th>Current Credit Balance</th>\n",
       "      <th>Maximum Open Credit</th>\n",
       "      <th>Long Term</th>\n",
       "      <th>Short Term</th>\n",
       "    </tr>\n",
       "  </thead>\n",
       "  <tbody>\n",
       "    <tr>\n",
       "      <th>0</th>\n",
       "      <td>Loan Refused</td>\n",
       "      <td>12232.0</td>\n",
       "      <td>716.612735</td>\n",
       "      <td>46643.0</td>\n",
       "      <td>777.39</td>\n",
       "      <td>18.0</td>\n",
       "      <td>12</td>\n",
       "      <td>6762.000000</td>\n",
       "      <td>7946.0</td>\n",
       "      <td>0</td>\n",
       "      <td>1</td>\n",
       "    </tr>\n",
       "    <tr>\n",
       "      <th>1</th>\n",
       "      <td>Loan Refused</td>\n",
       "      <td>25014.0</td>\n",
       "      <td>716.612735</td>\n",
       "      <td>81099.0</td>\n",
       "      <td>892.09</td>\n",
       "      <td>26.7</td>\n",
       "      <td>14</td>\n",
       "      <td>8927.561687</td>\n",
       "      <td>77961.0</td>\n",
       "      <td>1</td>\n",
       "      <td>0</td>\n",
       "    </tr>\n",
       "    <tr>\n",
       "      <th>2</th>\n",
       "      <td>Loan Refused</td>\n",
       "      <td>16117.0</td>\n",
       "      <td>716.612735</td>\n",
       "      <td>60438.0</td>\n",
       "      <td>1244.02</td>\n",
       "      <td>16.7</td>\n",
       "      <td>11</td>\n",
       "      <td>11275.000000</td>\n",
       "      <td>14815.0</td>\n",
       "      <td>0</td>\n",
       "      <td>1</td>\n",
       "    </tr>\n",
       "    <tr>\n",
       "      <th>3</th>\n",
       "      <td>Loan Refused</td>\n",
       "      <td>11716.0</td>\n",
       "      <td>716.612735</td>\n",
       "      <td>34171.0</td>\n",
       "      <td>990.94</td>\n",
       "      <td>10.0</td>\n",
       "      <td>21</td>\n",
       "      <td>7009.000000</td>\n",
       "      <td>43533.0</td>\n",
       "      <td>0</td>\n",
       "      <td>1</td>\n",
       "    </tr>\n",
       "    <tr>\n",
       "      <th>4</th>\n",
       "      <td>Loan Refused</td>\n",
       "      <td>9789.0</td>\n",
       "      <td>716.612735</td>\n",
       "      <td>47003.0</td>\n",
       "      <td>503.71</td>\n",
       "      <td>16.7</td>\n",
       "      <td>13</td>\n",
       "      <td>16913.000000</td>\n",
       "      <td>19553.0</td>\n",
       "      <td>1</td>\n",
       "      <td>0</td>\n",
       "    </tr>\n",
       "  </tbody>\n",
       "</table>\n",
       "</div>"
      ],
      "text/plain": [
       "    Loan Status  Current Loan Amount  Credit Score  Annual Income  \\\n",
       "0  Loan Refused              12232.0    716.612735        46643.0   \n",
       "1  Loan Refused              25014.0    716.612735        81099.0   \n",
       "2  Loan Refused              16117.0    716.612735        60438.0   \n",
       "3  Loan Refused              11716.0    716.612735        34171.0   \n",
       "4  Loan Refused               9789.0    716.612735        47003.0   \n",
       "\n",
       "   Monthly Debt  Years of Credit History  Number of Open Accounts  \\\n",
       "0        777.39                     18.0                       12   \n",
       "1        892.09                     26.7                       14   \n",
       "2       1244.02                     16.7                       11   \n",
       "3        990.94                     10.0                       21   \n",
       "4        503.71                     16.7                       13   \n",
       "\n",
       "   Current Credit Balance  Maximum Open Credit  Long Term  Short Term  \n",
       "0             6762.000000               7946.0          0           1  \n",
       "1             8927.561687              77961.0          1           0  \n",
       "2            11275.000000              14815.0          0           1  \n",
       "3             7009.000000              43533.0          0           1  \n",
       "4            16913.000000              19553.0          1           0  "
      ]
     },
     "execution_count": 86,
     "metadata": {},
     "output_type": "execute_result"
    }
   ],
   "source": [
    "lpd.head()"
   ]
  },
  {
   "cell_type": "code",
   "execution_count": 87,
   "id": "35dbeba3",
   "metadata": {},
   "outputs": [],
   "source": [
    "lpd['Loan Status'].replace(['Loan Refused','Loan Given'],[0,1], inplace =True)"
   ]
  },
  {
   "cell_type": "code",
   "execution_count": 88,
   "id": "4ffc0e09",
   "metadata": {},
   "outputs": [
    {
     "data": {
      "text/html": [
       "<div>\n",
       "<style scoped>\n",
       "    .dataframe tbody tr th:only-of-type {\n",
       "        vertical-align: middle;\n",
       "    }\n",
       "\n",
       "    .dataframe tbody tr th {\n",
       "        vertical-align: top;\n",
       "    }\n",
       "\n",
       "    .dataframe thead th {\n",
       "        text-align: right;\n",
       "    }\n",
       "</style>\n",
       "<table border=\"1\" class=\"dataframe\">\n",
       "  <thead>\n",
       "    <tr style=\"text-align: right;\">\n",
       "      <th></th>\n",
       "      <th>Loan Status</th>\n",
       "      <th>Current Loan Amount</th>\n",
       "      <th>Credit Score</th>\n",
       "      <th>Annual Income</th>\n",
       "      <th>Monthly Debt</th>\n",
       "      <th>Years of Credit History</th>\n",
       "      <th>Number of Open Accounts</th>\n",
       "      <th>Current Credit Balance</th>\n",
       "      <th>Maximum Open Credit</th>\n",
       "      <th>Long Term</th>\n",
       "      <th>Short Term</th>\n",
       "    </tr>\n",
       "  </thead>\n",
       "  <tbody>\n",
       "    <tr>\n",
       "      <th>0</th>\n",
       "      <td>0</td>\n",
       "      <td>12232.0</td>\n",
       "      <td>716.612735</td>\n",
       "      <td>46643.0</td>\n",
       "      <td>777.39</td>\n",
       "      <td>18.0</td>\n",
       "      <td>12</td>\n",
       "      <td>6762.000000</td>\n",
       "      <td>7946.0</td>\n",
       "      <td>0</td>\n",
       "      <td>1</td>\n",
       "    </tr>\n",
       "    <tr>\n",
       "      <th>1</th>\n",
       "      <td>0</td>\n",
       "      <td>25014.0</td>\n",
       "      <td>716.612735</td>\n",
       "      <td>81099.0</td>\n",
       "      <td>892.09</td>\n",
       "      <td>26.7</td>\n",
       "      <td>14</td>\n",
       "      <td>8927.561687</td>\n",
       "      <td>77961.0</td>\n",
       "      <td>1</td>\n",
       "      <td>0</td>\n",
       "    </tr>\n",
       "    <tr>\n",
       "      <th>2</th>\n",
       "      <td>0</td>\n",
       "      <td>16117.0</td>\n",
       "      <td>716.612735</td>\n",
       "      <td>60438.0</td>\n",
       "      <td>1244.02</td>\n",
       "      <td>16.7</td>\n",
       "      <td>11</td>\n",
       "      <td>11275.000000</td>\n",
       "      <td>14815.0</td>\n",
       "      <td>0</td>\n",
       "      <td>1</td>\n",
       "    </tr>\n",
       "    <tr>\n",
       "      <th>3</th>\n",
       "      <td>0</td>\n",
       "      <td>11716.0</td>\n",
       "      <td>716.612735</td>\n",
       "      <td>34171.0</td>\n",
       "      <td>990.94</td>\n",
       "      <td>10.0</td>\n",
       "      <td>21</td>\n",
       "      <td>7009.000000</td>\n",
       "      <td>43533.0</td>\n",
       "      <td>0</td>\n",
       "      <td>1</td>\n",
       "    </tr>\n",
       "    <tr>\n",
       "      <th>4</th>\n",
       "      <td>0</td>\n",
       "      <td>9789.0</td>\n",
       "      <td>716.612735</td>\n",
       "      <td>47003.0</td>\n",
       "      <td>503.71</td>\n",
       "      <td>16.7</td>\n",
       "      <td>13</td>\n",
       "      <td>16913.000000</td>\n",
       "      <td>19553.0</td>\n",
       "      <td>1</td>\n",
       "      <td>0</td>\n",
       "    </tr>\n",
       "  </tbody>\n",
       "</table>\n",
       "</div>"
      ],
      "text/plain": [
       "   Loan Status  Current Loan Amount  Credit Score  Annual Income  \\\n",
       "0            0              12232.0    716.612735        46643.0   \n",
       "1            0              25014.0    716.612735        81099.0   \n",
       "2            0              16117.0    716.612735        60438.0   \n",
       "3            0              11716.0    716.612735        34171.0   \n",
       "4            0               9789.0    716.612735        47003.0   \n",
       "\n",
       "   Monthly Debt  Years of Credit History  Number of Open Accounts  \\\n",
       "0        777.39                     18.0                       12   \n",
       "1        892.09                     26.7                       14   \n",
       "2       1244.02                     16.7                       11   \n",
       "3        990.94                     10.0                       21   \n",
       "4        503.71                     16.7                       13   \n",
       "\n",
       "   Current Credit Balance  Maximum Open Credit  Long Term  Short Term  \n",
       "0             6762.000000               7946.0          0           1  \n",
       "1             8927.561687              77961.0          1           0  \n",
       "2            11275.000000              14815.0          0           1  \n",
       "3             7009.000000              43533.0          0           1  \n",
       "4            16913.000000              19553.0          1           0  "
      ]
     },
     "execution_count": 88,
     "metadata": {},
     "output_type": "execute_result"
    }
   ],
   "source": [
    "lpd.head()"
   ]
  },
  {
   "cell_type": "markdown",
   "id": "d4bbe683",
   "metadata": {},
   "source": [
    "### Scaling Data\n",
    "Scaling the entire dataset will cause data leakage. That is outcome of target variable will be leaked. Therefore scaling will be done on the data without the target variable to avoid leakage of information. "
   ]
  },
  {
   "cell_type": "code",
   "execution_count": 89,
   "id": "021bfb21",
   "metadata": {},
   "outputs": [],
   "source": [
    "X = lpd.drop('Loan Status', axis = 1)\n",
    "y = lpd['Loan Status']"
   ]
  },
  {
   "cell_type": "markdown",
   "id": "f85d7d0f",
   "metadata": {},
   "source": [
    "Independent variables are represented by X in the above code, while y represents the the target variable. This is done in order to seperate the target variable from the independent varibales before scaling "
   ]
  },
  {
   "cell_type": "code",
   "execution_count": 90,
   "id": "8ee17e86",
   "metadata": {},
   "outputs": [],
   "source": [
    "from sklearn.preprocessing import StandardScaler"
   ]
  },
  {
   "cell_type": "code",
   "execution_count": 91,
   "id": "69bcad01",
   "metadata": {
    "scrolled": true
   },
   "outputs": [
    {
     "data": {
      "text/html": [
       "<div>\n",
       "<style scoped>\n",
       "    .dataframe tbody tr th:only-of-type {\n",
       "        vertical-align: middle;\n",
       "    }\n",
       "\n",
       "    .dataframe tbody tr th {\n",
       "        vertical-align: top;\n",
       "    }\n",
       "\n",
       "    .dataframe thead th {\n",
       "        text-align: right;\n",
       "    }\n",
       "</style>\n",
       "<table border=\"1\" class=\"dataframe\">\n",
       "  <thead>\n",
       "    <tr style=\"text-align: right;\">\n",
       "      <th></th>\n",
       "      <th>Current Loan Amount</th>\n",
       "      <th>Credit Score</th>\n",
       "      <th>Annual Income</th>\n",
       "      <th>Monthly Debt</th>\n",
       "      <th>Years of Credit History</th>\n",
       "      <th>Number of Open Accounts</th>\n",
       "      <th>Current Credit Balance</th>\n",
       "      <th>Maximum Open Credit</th>\n",
       "      <th>Long Term</th>\n",
       "      <th>Short Term</th>\n",
       "    </tr>\n",
       "  </thead>\n",
       "  <tbody>\n",
       "    <tr>\n",
       "      <th>0</th>\n",
       "      <td>-0.244975</td>\n",
       "      <td>0.0</td>\n",
       "      <td>-0.764743</td>\n",
       "      <td>-0.350846</td>\n",
       "      <td>-0.028655</td>\n",
       "      <td>0.174621</td>\n",
       "      <td>-4.840663e-01</td>\n",
       "      <td>-0.734266</td>\n",
       "      <td>-0.619756</td>\n",
       "      <td>0.619756</td>\n",
       "    </tr>\n",
       "    <tr>\n",
       "      <th>1</th>\n",
       "      <td>1.360755</td>\n",
       "      <td>0.0</td>\n",
       "      <td>0.823269</td>\n",
       "      <td>0.046409</td>\n",
       "      <td>1.211639</td>\n",
       "      <td>0.573803</td>\n",
       "      <td>4.065973e-16</td>\n",
       "      <td>1.780280</td>\n",
       "      <td>1.613539</td>\n",
       "      <td>-1.613539</td>\n",
       "    </tr>\n",
       "    <tr>\n",
       "      <th>2</th>\n",
       "      <td>0.243075</td>\n",
       "      <td>0.0</td>\n",
       "      <td>-0.128957</td>\n",
       "      <td>1.265294</td>\n",
       "      <td>-0.213987</td>\n",
       "      <td>-0.024970</td>\n",
       "      <td>5.247210e-01</td>\n",
       "      <td>-0.487570</td>\n",
       "      <td>-0.619756</td>\n",
       "      <td>0.619756</td>\n",
       "    </tr>\n",
       "    <tr>\n",
       "      <th>3</th>\n",
       "      <td>-0.309797</td>\n",
       "      <td>0.0</td>\n",
       "      <td>-1.339554</td>\n",
       "      <td>0.388769</td>\n",
       "      <td>-1.169156</td>\n",
       "      <td>1.970941</td>\n",
       "      <td>-4.288546e-01</td>\n",
       "      <td>0.543820</td>\n",
       "      <td>-0.619756</td>\n",
       "      <td>0.619756</td>\n",
       "    </tr>\n",
       "    <tr>\n",
       "      <th>4</th>\n",
       "      <td>-0.551876</td>\n",
       "      <td>0.0</td>\n",
       "      <td>-0.748151</td>\n",
       "      <td>-1.298718</td>\n",
       "      <td>-0.213987</td>\n",
       "      <td>0.374212</td>\n",
       "      <td>1.784979e+00</td>\n",
       "      <td>-0.317407</td>\n",
       "      <td>1.613539</td>\n",
       "      <td>-1.613539</td>\n",
       "    </tr>\n",
       "  </tbody>\n",
       "</table>\n",
       "</div>"
      ],
      "text/plain": [
       "   Current Loan Amount  Credit Score  Annual Income  Monthly Debt  \\\n",
       "0            -0.244975           0.0      -0.764743     -0.350846   \n",
       "1             1.360755           0.0       0.823269      0.046409   \n",
       "2             0.243075           0.0      -0.128957      1.265294   \n",
       "3            -0.309797           0.0      -1.339554      0.388769   \n",
       "4            -0.551876           0.0      -0.748151     -1.298718   \n",
       "\n",
       "   Years of Credit History  Number of Open Accounts  Current Credit Balance  \\\n",
       "0                -0.028655                 0.174621           -4.840663e-01   \n",
       "1                 1.211639                 0.573803            4.065973e-16   \n",
       "2                -0.213987                -0.024970            5.247210e-01   \n",
       "3                -1.169156                 1.970941           -4.288546e-01   \n",
       "4                -0.213987                 0.374212            1.784979e+00   \n",
       "\n",
       "   Maximum Open Credit  Long Term  Short Term  \n",
       "0            -0.734266  -0.619756    0.619756  \n",
       "1             1.780280   1.613539   -1.613539  \n",
       "2            -0.487570  -0.619756    0.619756  \n",
       "3             0.543820  -0.619756    0.619756  \n",
       "4            -0.317407   1.613539   -1.613539  "
      ]
     },
     "execution_count": 91,
     "metadata": {},
     "output_type": "execute_result"
    }
   ],
   "source": [
    "scaler = StandardScaler()\n",
    "norm_data = scaler.fit_transform(X)\n",
    "X = pd.DataFrame(norm_data, columns = X.columns)\n",
    "\n",
    "X.head()"
   ]
  },
  {
   "cell_type": "code",
   "execution_count": 92,
   "id": "88b3980d",
   "metadata": {},
   "outputs": [],
   "source": [
    "given = lpd[lpd['Loan Status']==1]\n",
    "refused = lpd[lpd['Loan Status']==0]"
   ]
  },
  {
   "cell_type": "code",
   "execution_count": 93,
   "id": "f9c411d2",
   "metadata": {},
   "outputs": [
    {
     "name": "stdout",
     "output_type": "stream",
     "text": [
      "shape of ones\n",
      "(85934, 11)\n",
      "Shape of zeros\n",
      "(25173, 11)\n"
     ]
    }
   ],
   "source": [
    "print('shape of ones')\n",
    "print(given.shape)\n",
    "print('Shape of zeros')\n",
    "print(refused.shape)   \n",
    "# Checking the number of zeros and ones, it can be seen that the number of ones are more than the number of zeros.\n",
    "# This makes the target variable imbalanced which may cause a certain level of bias when fitting a model. "
   ]
  },
  {
   "cell_type": "markdown",
   "id": "9af2bb2d",
   "metadata": {},
   "source": [
    "### Making the target variable balanced"
   ]
  },
  {
   "cell_type": "code",
   "execution_count": 94,
   "id": "3726b879",
   "metadata": {},
   "outputs": [],
   "source": [
    "import imblearn\n",
    "from imblearn.over_sampling import ADASYN"
   ]
  },
  {
   "cell_type": "code",
   "execution_count": 95,
   "id": "b5839975",
   "metadata": {},
   "outputs": [],
   "source": [
    "X_resampled,y_resampled = ADASYN().fit_resample(X,y)"
   ]
  },
  {
   "cell_type": "code",
   "execution_count": 96,
   "id": "1085ff30",
   "metadata": {},
   "outputs": [
    {
     "data": {
      "text/plain": [
       "((170475, 10), (170475,))"
      ]
     },
     "execution_count": 96,
     "metadata": {},
     "output_type": "execute_result"
    }
   ],
   "source": [
    "X_resampled.shape,y_resampled.shape"
   ]
  },
  {
   "cell_type": "code",
   "execution_count": 97,
   "id": "c1ed964f",
   "metadata": {},
   "outputs": [],
   "source": [
    "from collections import Counter"
   ]
  },
  {
   "cell_type": "code",
   "execution_count": 98,
   "id": "6bc3da2b",
   "metadata": {},
   "outputs": [
    {
     "name": "stdout",
     "output_type": "stream",
     "text": [
      "Original dataset shape Counter({1: 85934, 0: 25173})\n",
      "Resampled dataset shape Counter({1: 85934, 0: 84541})\n"
     ]
    }
   ],
   "source": [
    "print('Original dataset shape {}'.format(Counter(y)))\n",
    "print('Resampled dataset shape {}'.format(Counter(y_resampled)))"
   ]
  },
  {
   "cell_type": "code",
   "execution_count": 99,
   "id": "bbc9659f",
   "metadata": {},
   "outputs": [],
   "source": [
    "X = X_resampled\n",
    "y = y_resampled"
   ]
  },
  {
   "cell_type": "code",
   "execution_count": 100,
   "id": "ade44c88",
   "metadata": {},
   "outputs": [
    {
     "name": "stdout",
     "output_type": "stream",
     "text": [
      "(170475, 10) (170475,)\n"
     ]
    }
   ],
   "source": [
    "print(X.shape,y.shape)"
   ]
  },
  {
   "cell_type": "code",
   "execution_count": null,
   "id": "f88dd8ca",
   "metadata": {},
   "outputs": [],
   "source": []
  },
  {
   "cell_type": "code",
   "execution_count": 101,
   "id": "4944090e",
   "metadata": {},
   "outputs": [],
   "source": [
    "from sklearn.model_selection import train_test_split\n",
    "from sklearn.metrics import confusion_matrix\n",
    "from sklearn.metrics import roc_auc_score\n",
    "from sklearn.metrics import f1_score\n",
    "from sklearn.metrics import accuracy_score\n",
    "import sklearn.metrics as metrics\n",
    "from sklearn.ensemble import GradientBoostingClassifier\n",
    "from sklearn.linear_model import LogisticRegression\n",
    "from sklearn.ensemble import AdaBoostClassifier\n",
    "from sklearn.svm import SVC\n",
    "from sklearn.naive_bayes import GaussianNB"
   ]
  },
  {
   "cell_type": "markdown",
   "id": "e5e2da90",
   "metadata": {},
   "source": [
    "### Splitting data into train and test sets\n",
    "The procedure involves taking a dataset and dividing it into two subsets. The first subset is used to fit the model and is referred to as the training dataset. The second subset is not used to train the model; instead, the input element of the dataset is provided to the model, then predictions are made and compared to the expected values. This second dataset is referred to as the test dataset.\n",
    "\n",
    "\n",
    "\n",
    "\n",
    "\n",
    "Here different models will be used to train and test the data set in order to know best model. Different scoring metrices will be used as well to help select the best model. Various scores of matrices for the different models will be compared with each other to know the best out of the lot.\n",
    "\n",
    "\n",
    "\n",
    "Data will be splitted 70%-30% for train set and test set respectively"
   ]
  },
  {
   "cell_type": "code",
   "execution_count": 102,
   "id": "95286230",
   "metadata": {},
   "outputs": [],
   "source": [
    "X_train,X_test,y_train,y_test = train_test_split(X,y,stratify = y,\n",
    "                                                     test_size = 0.3)"
   ]
  },
  {
   "cell_type": "markdown",
   "id": "cf5b0d55",
   "metadata": {},
   "source": [
    "### Matrices for evaluation performance of the models in the work\n",
    "Three different matrices will be used to evaluate the performance of the models. they are;\n",
    "1. Confusion Matrix\n",
    "2. F1 score\n",
    "3. Roc Auc Score\n",
    "\n",
    "#### Confusion Matrix\n",
    "A confusion matrix is a technique for summarizing the performance of a classification algorithm.The number of correct and incorrect predictions are summarized with count values and broken down by each class.\n",
    "\n",
    "\n",
    "#### F1 score\n",
    "F1-score is a metric which takes into account both precision and recall and is defined as follows: F1 Score becomes 1 only when precision and recall are both 1. F1 score becomes high only when both precision and recall are high\n",
    "\n",
    "#### Roc Auc Score\n",
    "The Area Under the Curve (AUC) is the measure of the ability of a classifier to distinguish between classes and is used as a summary of the ROC curve.When AUC = 1, then the classifier is able to perfectly distinguish between all the Positive and the Negative class points correctly. If, however, the AUC had been 0, then the classifier would be predicting all Negatives as Positives, and all Positives as Negatives."
   ]
  },
  {
   "cell_type": "code",
   "execution_count": null,
   "id": "4055008a",
   "metadata": {},
   "outputs": [],
   "source": []
  },
  {
   "cell_type": "code",
   "execution_count": 103,
   "id": "76f75562",
   "metadata": {},
   "outputs": [
    {
     "name": "stdout",
     "output_type": "stream",
     "text": [
      "===============================================\n",
      "TRAIN SET\n",
      "78\n",
      "===============================================\n",
      "TEST SET\n",
      "78\n",
      "===============================================\n",
      "CONFUSION MATRIX\n",
      "[[17687  7676]\n",
      " [ 3507 22273]]\n",
      "===============================================\n",
      "F1 SCORE\n",
      "80\n",
      "===============================================\n",
      "ROC AUC SCORE\n",
      "78\n",
      "===============================================\n"
     ]
    }
   ],
   "source": [
    "# Gradient Boost\n",
    "gbc = GradientBoostingClassifier()\n",
    "gbc.fit(X_train,y_train)\n",
    "pred_gbc = gbc.predict(X_test)\n",
    "train_gbc = round(gbc.score(X_train,y_train)*100)\n",
    "test_gbc = round(gbc.score(X_test,y_test)*100)\n",
    "\n",
    "gbc_conf_matrix = confusion_matrix(y_test,pred_gbc)\n",
    "score_gbc = round(f1_score(y_test,pred_gbc)*100)\n",
    "gbc_r_a_score = round(roc_auc_score(y_test,pred_gbc)*100)\n",
    "\n",
    "print('===============================================')\n",
    "print('TRAIN SET')\n",
    "print(train_gbc)\n",
    "print('===============================================')\n",
    "print('TEST SET')\n",
    "print(test_gbc)\n",
    "print('===============================================')\n",
    "print('CONFUSION MATRIX')\n",
    "print(gbc_conf_matrix)\n",
    "print('===============================================')\n",
    "print('F1 SCORE')\n",
    "print(score_gbc)\n",
    "print('===============================================')\n",
    "print('ROC AUC SCORE')\n",
    "print(gbc_r_a_score)\n",
    "print('===============================================')"
   ]
  },
  {
   "cell_type": "code",
   "execution_count": null,
   "id": "f3c1f6f8",
   "metadata": {},
   "outputs": [],
   "source": []
  },
  {
   "cell_type": "code",
   "execution_count": 104,
   "id": "9102c8d4",
   "metadata": {},
   "outputs": [
    {
     "name": "stdout",
     "output_type": "stream",
     "text": [
      "==============================================\n",
      "TRAIN SET\n",
      "56 %\n",
      "==============================================\n",
      "TEST SET\n",
      "56 %\n",
      "==============================================\n",
      "CONFUSION MATRIX\n",
      "[[13001 12362]\n",
      " [10191 15589]]\n",
      "==============================================\n",
      "F1 SCORE\n",
      "58 %\n",
      "==============================================\n",
      "ROC AUC SCORE\n",
      "56 %\n",
      "==============================================\n"
     ]
    }
   ],
   "source": [
    "logreg = LogisticRegression()\n",
    "\n",
    "logreg.fit(X_train,y_train)\n",
    "pred_logreg = logreg.predict(X_test)\n",
    "\n",
    "logreg_train = round(logreg.score(X_train,y_train)*100)\n",
    "logreg_test = round(logreg.score(X_test,y_test)*100)\n",
    "\n",
    "logreg_conf_matrix = confusion_matrix(y_test,pred_logreg)\n",
    "score_logreg = round(f1_score(y_test,pred_logreg)*100)\n",
    "logreg_r_a_score = round(roc_auc_score(y_test,pred_logreg)*100)\n",
    "\n",
    "\n",
    "print('==============================================')\n",
    "print('TRAIN SET')\n",
    "print(logreg_train,'%')\n",
    "print('==============================================')\n",
    "print('TEST SET')\n",
    "print(logreg_test,'%')\n",
    "print('==============================================')\n",
    "print('CONFUSION MATRIX')\n",
    "print(logreg_conf_matrix)\n",
    "print('==============================================')\n",
    "print('F1 SCORE')\n",
    "print(score_logreg,'%')\n",
    "print('==============================================')\n",
    "print('ROC AUC SCORE')\n",
    "print(logreg_r_a_score,'%')\n",
    "print('==============================================')\n",
    "\n",
    "\n"
   ]
  },
  {
   "cell_type": "code",
   "execution_count": null,
   "id": "5bb1d4b5",
   "metadata": {},
   "outputs": [],
   "source": []
  },
  {
   "cell_type": "code",
   "execution_count": 105,
   "id": "666e4efb",
   "metadata": {},
   "outputs": [
    {
     "name": "stdout",
     "output_type": "stream",
     "text": [
      "============================================\n",
      "TRAIN SET\n",
      "66\n",
      "==============================================\n",
      "TEST SET\n",
      "66 %\n",
      "============================================\n",
      "CONFUSION MATRIC\n",
      "[[18366  6997]\n",
      " [10315 15465]]\n",
      "============================================\n",
      "F1 SCORE\n",
      "64 %\n",
      "============================================\n",
      "ROC AUC SCORE\n",
      "66 %\n",
      "None\n",
      "============================================\n"
     ]
    }
   ],
   "source": [
    "# AdaBoostClassifier\n",
    "abc = AdaBoostClassifier()\n",
    "abc.fit(X_train,y_train)\n",
    "pred_abc = abc.predict(X_test)\n",
    "\n",
    "abc_train = round(abc.score(X_train,y_train)*100)\n",
    "abc_test = round(abc.score(X_test,y_test)*100)\n",
    "\n",
    "\n",
    "abc_conf_matrix = confusion_matrix(y_test,pred_abc)\n",
    "score_abc = round(f1_score(y_test,pred_abc)*100)\n",
    "abc_r_a_score = round(roc_auc_score(y_test,pred_abc)*100)\n",
    "\n",
    "\n",
    "\n",
    "print('============================================')\n",
    "print('TRAIN SET')\n",
    "print(abc_train)\n",
    "print('==============================================')\n",
    "print('TEST SET')\n",
    "print(abc_test,'%')\n",
    "print('============================================')\n",
    "print('CONFUSION MATRIC')\n",
    "print(abc_conf_matrix)\n",
    "print('============================================')\n",
    "print('F1 SCORE')\n",
    "print(score_abc,'%')\n",
    "print('============================================')\n",
    "print('ROC AUC SCORE')\n",
    "print(print(abc_r_a_score,'%'))\n",
    "print('============================================')"
   ]
  },
  {
   "cell_type": "code",
   "execution_count": 106,
   "id": "9d88fccb",
   "metadata": {},
   "outputs": [
    {
     "name": "stdout",
     "output_type": "stream",
     "text": [
      "===========================================\n",
      "TRAIN SET\n",
      "55 %\n",
      "===========================================\n",
      "TEST SET\n",
      "55 %\n",
      "===========================================\n",
      "CONFUSION MATRIX\n",
      "[[10478 14885]\n",
      " [ 8047 17733]]\n",
      "===========================================\n",
      "F1 SCORE\n",
      "61 %\n",
      "===========================================\n",
      "ROC AUC SCORE\n",
      "55 %\n",
      "===========================================\n"
     ]
    }
   ],
   "source": [
    "#Gaussian NB\n",
    "gnb = GaussianNB()\n",
    "gnb.fit(X_train,y_train)\n",
    "pred_gnb = gnb.predict(X_test)\n",
    "\n",
    "\n",
    "gnb_train = round(gnb.score(X_train,y_train)*100)\n",
    "gnb_test = round(gnb.score(X_test,y_test)*100)\n",
    "\n",
    "gnb_conf_matrix = confusion_matrix(y_test,pred_gnb)\n",
    "score_gnb = round(f1_score(y_test,pred_gnb)*100)\n",
    "gnb_r_a_score = round(roc_auc_score(y_test,pred_gnb)*100)\n",
    "\n",
    "\n",
    "\n",
    "print('===========================================')\n",
    "print('TRAIN SET')\n",
    "print(gnb_train,'%')\n",
    "print('===========================================')\n",
    "print('TEST SET')\n",
    "print(gnb_test,'%')\n",
    "print('===========================================')\n",
    "print('CONFUSION MATRIX')\n",
    "print(gnb_conf_matrix)\n",
    "print('===========================================')\n",
    "print('F1 SCORE')\n",
    "print(score_gnb,'%')\n",
    "print('===========================================')\n",
    "print('ROC AUC SCORE')\n",
    "print(gnb_r_a_score,'%')\n",
    "print('===========================================')"
   ]
  },
  {
   "cell_type": "code",
   "execution_count": null,
   "id": "d1159508",
   "metadata": {},
   "outputs": [],
   "source": []
  },
  {
   "cell_type": "code",
   "execution_count": 108,
   "id": "2d146d25",
   "metadata": {},
   "outputs": [
    {
     "data": {
      "text/html": [
       "<div>\n",
       "<style scoped>\n",
       "    .dataframe tbody tr th:only-of-type {\n",
       "        vertical-align: middle;\n",
       "    }\n",
       "\n",
       "    .dataframe tbody tr th {\n",
       "        vertical-align: top;\n",
       "    }\n",
       "\n",
       "    .dataframe thead th {\n",
       "        text-align: right;\n",
       "    }\n",
       "</style>\n",
       "<table border=\"1\" class=\"dataframe\">\n",
       "  <thead>\n",
       "    <tr style=\"text-align: right;\">\n",
       "      <th></th>\n",
       "      <th>Train set</th>\n",
       "      <th>Test set</th>\n",
       "      <th>F1 Score</th>\n",
       "      <th>Roc Auc score</th>\n",
       "    </tr>\n",
       "    <tr>\n",
       "      <th>Model</th>\n",
       "      <th></th>\n",
       "      <th></th>\n",
       "      <th></th>\n",
       "      <th></th>\n",
       "    </tr>\n",
       "  </thead>\n",
       "  <tbody>\n",
       "    <tr>\n",
       "      <th>Gradient Boosting Classifier</th>\n",
       "      <td>78</td>\n",
       "      <td>78</td>\n",
       "      <td>80</td>\n",
       "      <td>78</td>\n",
       "    </tr>\n",
       "    <tr>\n",
       "      <th>AdaBoost Classifier</th>\n",
       "      <td>66</td>\n",
       "      <td>66</td>\n",
       "      <td>64</td>\n",
       "      <td>66</td>\n",
       "    </tr>\n",
       "    <tr>\n",
       "      <th>Logistic Regression</th>\n",
       "      <td>56</td>\n",
       "      <td>56</td>\n",
       "      <td>58</td>\n",
       "      <td>56</td>\n",
       "    </tr>\n",
       "    <tr>\n",
       "      <th>Gaussian NB</th>\n",
       "      <td>55</td>\n",
       "      <td>55</td>\n",
       "      <td>61</td>\n",
       "      <td>55</td>\n",
       "    </tr>\n",
       "  </tbody>\n",
       "</table>\n",
       "</div>"
      ],
      "text/plain": [
       "                              Train set  Test set  F1 Score  Roc Auc score\n",
       "Model                                                                     \n",
       "Gradient Boosting Classifier         78        78        80             78\n",
       "AdaBoost Classifier                  66        66        64             66\n",
       "Logistic Regression                  56        56        58             56\n",
       "Gaussian NB                          55        55        61             55"
      ]
     },
     "execution_count": 108,
     "metadata": {},
     "output_type": "execute_result"
    }
   ],
   "source": [
    "results = pd.DataFrame({\n",
    "    'Model':['Gradient Boosting Classifier','Logistic Regression','AdaBoost Classifier',\n",
    "            'Gaussian NB'],\n",
    "    'Train set':[train_gbc,logreg_train,abc_train,gnb_train],\n",
    "    'Test set':[test_gbc, logreg_test,abc_test,gnb_test],\n",
    "    'F1 Score':[score_gbc,score_logreg,score_abc,score_gnb],\n",
    "    'Roc Auc score':[gbc_r_a_score, logreg_r_a_score,abc_r_a_score,gnb_r_a_score]\n",
    "})\n",
    "results_df = results.sort_values(by = 'Test set',ascending = False)\n",
    "result_df = results_df.set_index('Model')\n",
    "result_df"
   ]
  },
  {
   "cell_type": "markdown",
   "id": "2d3dc11a",
   "metadata": {},
   "source": [
    "### Plotting the auc for all the above models"
   ]
  },
  {
   "cell_type": "code",
   "execution_count": 109,
   "id": "78132485",
   "metadata": {},
   "outputs": [
    {
     "name": "stdout",
     "output_type": "stream",
     "text": [
      "Roc auc for Gradient Boosting Classifier is: 87.00 %\n"
     ]
    }
   ],
   "source": [
    "# GRADIENT BOOSTING CLASSIFIER\n",
    "gbc_probs = gbc.predict_proba(X_test)\n",
    "pred_gbc = gbc_probs[:,1]\n",
    "fpr, tpr, threshold = metrics.roc_curve(y_test, pred_gbc)\n",
    "gbc_roc_auc = round(metrics.auc(fpr, tpr)*100)\n",
    "print('Roc auc for Gradient Boosting Classifier is: {:.2f} %'.format(gbc_roc_auc))"
   ]
  },
  {
   "cell_type": "code",
   "execution_count": 110,
   "id": "d3a698cb",
   "metadata": {},
   "outputs": [
    {
     "name": "stdout",
     "output_type": "stream",
     "text": [
      "Roc auc for AdaBoost Classifier is: 75.00 %\n"
     ]
    }
   ],
   "source": [
    "abc_probs = abc.predict_proba(X_test)\n",
    "pred_abc = abc_probs[:,1]\n",
    "fpr1, tpr1, threshold = metrics.roc_curve(y_test, pred_abc)\n",
    "abc_roc_auc = round(metrics.auc(fpr1, tpr1)*100)\n",
    "print('Roc auc for AdaBoost Classifier is: {:.2f} %'.format(abc_roc_auc))"
   ]
  },
  {
   "cell_type": "code",
   "execution_count": 111,
   "id": "748e490a",
   "metadata": {},
   "outputs": [
    {
     "name": "stdout",
     "output_type": "stream",
     "text": [
      "Roc auc for Logistic Regression is: 59.00 %\n"
     ]
    }
   ],
   "source": [
    "logreg_probs = logreg.predict_proba(X_test)\n",
    "pred_logreg = logreg_probs[:,1]\n",
    "fpr2, tpr2, threshold = metrics.roc_curve(y_test, pred_logreg)\n",
    "logreg_roc_auc = round(metrics.auc(fpr2, tpr2)*100)\n",
    "print('Roc auc for Logistic Regression is: {:.2f} %'.format(logreg_roc_auc))"
   ]
  },
  {
   "cell_type": "code",
   "execution_count": 112,
   "id": "8ca4f1f2",
   "metadata": {},
   "outputs": [
    {
     "name": "stdout",
     "output_type": "stream",
     "text": [
      "Roc auc for Gaussian NB is: 59.00 %\n"
     ]
    }
   ],
   "source": [
    "# GAUSSIAN NB\n",
    "gnb_probs = gnb.predict_proba(X_test)\n",
    "pred_gnb = gnb_probs[:,1]\n",
    "fpr3, tpr3, threshold = metrics.roc_curve(y_test, pred_gnb)\n",
    "gnb_roc_auc = round(metrics.auc(fpr3, tpr3)*100)\n",
    "print('Roc auc for Gaussian NB is: {:.2f} %'.format(gnb_roc_auc))"
   ]
  },
  {
   "cell_type": "code",
   "execution_count": 113,
   "id": "4d0ad5ce",
   "metadata": {
    "scrolled": true
   },
   "outputs": [
    {
     "data": {
      "image/png": "[encoded data removed]",
      "text/plain": [
       "<Figure size 1080x720 with 1 Axes>"
      ]
     },
     "metadata": {
      "needs_background": "light"
     },
     "output_type": "display_data"
    }
   ],
   "source": [
    "plt.figure(figsize = (15,10))\n",
    "plt.plot(fpr,tpr, label ='Gradient Boosting' 'AUC = %0.2f' % gbc_roc_auc)\n",
    "plt.plot(fpr1,tpr1, label = 'AdaBoost Classifier' 'AUC = %0.2f' % abc_roc_auc)\n",
    "plt.plot(fpr2,tpr2, label = 'Logistic Regression' 'AUC = %0.2f' % logreg_roc_auc)\n",
    "plt.plot(fpr3,tpr3, label = 'Gaussian NB' 'AUC = %0.2f' % gnb_roc_auc)\n",
    "plt.legend(loc = 'best')\n",
    "plt.xlabel('FPR', fontsize = 15)\n",
    "plt.ylabel('TPR', fontsize = 15)\n",
    "plt.title('RECIEVER OPERATING CHARACTERISTICS', fontsize = 20)\n",
    "plt.show()"
   ]
  },
  {
   "cell_type": "markdown",
   "id": "3cbf0298",
   "metadata": {},
   "source": [
    "Gradient Boosting appears to be the best model with both train set and test set scores better than the others.\n",
    "Its f1 score and roc auc score is also better than that of the others. Confusion matrix for Gradient Boosting also predicts more true positives and true negatives than the other models.\n",
    "\n",
    "I will be training the data again on the Gradient Boosting model. This time some hyperparameters will be included to enhance the models performance.\n",
    "\n",
    "Let's see how that goes!"
   ]
  },
  {
   "cell_type": "code",
   "execution_count": 114,
   "id": "948227d6",
   "metadata": {
    "scrolled": true
   },
   "outputs": [
    {
     "name": "stdout",
     "output_type": "stream",
     "text": [
      "===============================================\n",
      "TRAIN SET\n",
      "86\n",
      "===============================================\n",
      "TEST SET\n",
      "85\n",
      "===============================================\n",
      "CONFUSION MATRIX\n",
      "[[18558  6805]\n",
      " [  972 24808]]\n",
      "===============================================\n",
      "F1 SCORE\n",
      "86\n",
      "===============================================\n",
      "ROC AUC SCORE\n",
      "85\n",
      "===============================================\n"
     ]
    }
   ],
   "source": [
    "gbc = GradientBoostingClassifier(learning_rate= 0.1, max_depth = 3, n_estimators = 1000, subsample = 0.5)\n",
    "gbc.fit(X_train,y_train)\n",
    "pred_gbc = gbc.predict(X_test)\n",
    "train_gbc = round(gbc.score(X_train,y_train)*100)\n",
    "test_gbc = round(gbc.score(X_test,y_test)*100)\n",
    "\n",
    "gbc_conf_matrix = confusion_matrix(y_test,pred_gbc)\n",
    "score_gbc = round(f1_score(y_test,pred_gbc)*100)\n",
    "gbc_r_a_score = round(roc_auc_score(y_test,pred_gbc)*100)\n",
    "\n",
    "print('===============================================')\n",
    "print('TRAIN SET')\n",
    "print(train_gbc)\n",
    "print('===============================================')\n",
    "print('TEST SET')\n",
    "print(test_gbc)\n",
    "print('===============================================')\n",
    "print('CONFUSION MATRIX')\n",
    "print(gbc_conf_matrix)\n",
    "print('===============================================')\n",
    "print('F1 SCORE')\n",
    "print(score_gbc)\n",
    "print('===============================================')\n",
    "print('ROC AUC SCORE')\n",
    "print(gbc_r_a_score)\n",
    "print('===============================================')"
   ]
  },
  {
   "cell_type": "markdown",
   "id": "ae29690c",
   "metadata": {},
   "source": [
    "After tuning a few hyperparameters it can be seen that the model performs even better than it did initially.\n",
    "\n",
    "Plotting the roc auc to know how well the model is at classifying."
   ]
  },
  {
   "cell_type": "code",
   "execution_count": 115,
   "id": "66704085",
   "metadata": {},
   "outputs": [
    {
     "name": "stdout",
     "output_type": "stream",
     "text": [
      "Roc auc for Gradient Boosting Classifier is: 92.00 %\n"
     ]
    }
   ],
   "source": [
    "gbc_probs = gbc.predict_proba(X_test)\n",
    "pred_gbc = gbc_probs[:,1]\n",
    "fpr5, tpr5, threshold = metrics.roc_curve(y_test, pred_gbc)\n",
    "gbc_roc_auc = round(metrics.auc(fpr5, tpr5)*100)\n",
    "print('Roc auc for Gradient Boosting Classifier is: {:.2f} %'.format(gbc_roc_auc))"
   ]
  },
  {
   "cell_type": "code",
   "execution_count": 116,
   "id": "fa7e8d43",
   "metadata": {},
   "outputs": [
    {
     "data": {
      "image/png": "[encoded data removed]",
      "text/plain": [
       "<Figure size 1080x720 with 1 Axes>"
      ]
     },
     "metadata": {
      "needs_background": "light"
     },
     "output_type": "display_data"
    }
   ],
   "source": [
    "plt.figure(figsize = (15,10))\n",
    "plt.plot(fpr5,tpr5, label ='Gradient Boosting' 'AUC = %0.2f' % gbc_roc_auc)\n",
    "plt.legend(loc = 'best')\n",
    "plt.xlabel('FPR', fontsize = 15)\n",
    "plt.ylabel('TPR', fontsize = 15)\n",
    "plt.title('RECIEVER OPERATING CHARACTERISTICS', fontsize = 20)\n",
    "plt.show()"
   ]
  },
  {
   "cell_type": "markdown",
   "id": "587061a2",
   "metadata": {},
   "source": [
    "An excellent model has AUC near to the 1 which means it has a good measure of separability.\n",
    "A poor model has an AUC near 0 which means it has the worst measure of separability. In fact, it means it is reciprocating the result. It is predicting 0s as 1s and 1s as 0s. And when AUC is 0.5, it means the model has no class separation capacity whatsoever.\n",
    "\n",
    "\n",
    "A 92% AUC is actually good score for the model. Higher the AUC, the better the model is at predicting 0 classes as 0 and 1 classes as 1. By analogy, the Higher the AUC, the better the model is at distinguishing between customers who were given loans and customers who were refused."
   ]
  },
  {
   "cell_type": "markdown",
   "id": "64d2d5ca",
   "metadata": {},
   "source": [
    "# Conclusion\n",
    "​\n",
    "This project has given me in-depht knowlegde on how  some machine learning algorithms work and has also helped me apply concepts learned in class, and other sources on different type of problem. Most of the time spent on this project was during the data preparation aspect.\n",
    "​\n",
    "\n",
    "This projected started with importation of basic python libraries and also data exploration. This gave an overview of how the data looked like. Fished out missing values and stray characters and also checked which features were important to the objectives of the work.\n",
    "​\n",
    "\n",
    "During the preprocessing stage, missing values were computed, some features were converted to numeric ones, and encoded categorical features. The standard scaler was used to scale the data and the target variable was also balanced.\n",
    "​\n",
    "\n",
    "Four different models were used in this project.The Accuracy score,Confusion matrix, Roc Auc scores and F1 score were matrices used for the evaluation of the Gradient Boosting Classifier that proved to be the best of the models."
   ]
  },
  {
   "cell_type": "code",
   "execution_count": null,
   "id": "94f65302",
   "metadata": {},
   "outputs": [],
   "source": []
  }
 ],
 "metadata": {
  "kernelspec": {
   "display_name": "Python 3",
   "language": "python",
   "name": "python3"
  },
  "language_info": {
   "codemirror_mode": {
    "name": "ipython",
    "version": 3
   },
   "file_extension": ".py",
   "mimetype": "text/x-python",
   "name": "python",
   "nbconvert_exporter": "python",
   "pygments_lexer": "ipython3",
   "version": "3.8.8"
  }
 },
 "nbformat": 4,
 "nbformat_minor": 5
}
